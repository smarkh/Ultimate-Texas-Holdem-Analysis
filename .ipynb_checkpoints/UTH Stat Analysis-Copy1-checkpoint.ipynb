{
 "cells": [
  {
   "cell_type": "code",
   "execution_count": 1,
   "id": "61ae0299",
   "metadata": {},
   "outputs": [],
   "source": [
    "import pandas as pd\n",
    "import numpy as np\n",
    "from treys import Card\n",
    "from treys import Evaluator\n",
    "from treys import Deck\n",
    "import random"
   ]
  },
  {
   "cell_type": "markdown",
   "id": "43b2564d",
   "metadata": {},
   "source": [
    "https://www.pokernews.com/casino/video-poker/ultimate-texas-holdem.htm\n",
    "\n",
    "https://pittsburgh.livecasinohotel.com/casino-and-gaming/table-games/ultimate-texas-holdem#:~:text=The%20Play%20and%20Ante%20wagers,the%20outcome%20of%20the%20hand."
   ]
  },
  {
   "cell_type": "code",
   "execution_count": 2,
   "id": "1d4c7905",
   "metadata": {},
   "outputs": [],
   "source": [
    "deck = Deck()"
   ]
  },
  {
   "cell_type": "code",
   "execution_count": 9,
   "id": "fba93158",
   "metadata": {},
   "outputs": [],
   "source": [
    "board = deck.draw(5)\n",
    "flop = board[:3]\n",
    "river = board[3:]\n",
    "my_hand = deck.draw(2)\n",
    "dealer_hand = deck.draw(2)"
   ]
  },
  {
   "cell_type": "code",
   "execution_count": 12,
   "id": "87bc5faa",
   "metadata": {},
   "outputs": [
    {
     "name": "stdout",
     "output_type": "stream",
     "text": [
      " [K♠],[5\u001b[34m♦\u001b[0m],[5\u001b[32m♣\u001b[0m],[A\u001b[34m♦\u001b[0m],[7\u001b[31m♥\u001b[0m] \n",
      " [K♠],[5\u001b[34m♦\u001b[0m],[5\u001b[32m♣\u001b[0m] \n",
      " [A\u001b[34m♦\u001b[0m],[7\u001b[31m♥\u001b[0m] \n"
     ]
    }
   ],
   "source": [
    "Card.print_pretty_cards(board)\n",
    "Card.print_pretty_cards(flop)\n",
    "Card.print_pretty_cards(river)"
   ]
  },
  {
   "cell_type": "code",
   "execution_count": 5,
   "id": "903c7c96",
   "metadata": {},
   "outputs": [],
   "source": [
    "# game process\n",
    "ANTE = 5\n",
    "BLIND = ANTE\n",
    "play = None"
   ]
  },
  {
   "cell_type": "code",
   "execution_count": null,
   "id": "de3a5a0e",
   "metadata": {},
   "outputs": [],
   "source": [
    "def get_bet(ANTE, my_hand, flop, river):\n",
    "    play = 0\n",
    "    \n",
    "    # Check if there is a hole pair\n",
    "    \n",
    "    \n",
    "    return play"
   ]
  },
  {
   "cell_type": "code",
   "execution_count": 7,
   "id": "2c92635f",
   "metadata": {},
   "outputs": [],
   "source": [
    "def get_bet(ANTE, my_hand, flop, river):\n",
    "    play = 0\n",
    "    # Check if there is a hole pair\n",
    "    if HandParser(my_hand).handenum >= 1:\n",
    "        play = ANTE * 4\n",
    "\n",
    "    # check if there is an ace in the personal cards\n",
    "    elif my_hand[0][0].name == 'ACE' or my_hand[0][0].name == 'ACE':\n",
    "        play = ANTE * 4\n",
    "\n",
    "    # check if there is a king 5 or king suited in the personal cards\n",
    "    elif my_hand[0][0].value == 11 or my_hand[0][0].value == 11:       # check if one of cards is a king\n",
    "        if my_hand[0][0].value == 11:                                  # first card is a king\n",
    "            if my_hand[1][0].value >= 3:                               # second card value is greater than or equal to 5\n",
    "                play = ANTE * 4\n",
    "            elif my_hand[0][1].value == my_hand[1][1].value:           # second card is suited with first\n",
    "                play = ANTE * 4\n",
    "\n",
    "        if my_hand[1][0].value == 11:                                  # second card is a king\n",
    "            if my_hand[0][0].value >= 3:                               # second card value is greater than or equal to 5\n",
    "                play = ANTE * 4\n",
    "            elif my_hand[1][1].value == my_hand[0][1].value:           # second card is suited with first\n",
    "                play = ANTE * 4\n",
    "\n",
    "    # check if there is a queen 8 or queen suited 8 in the personal cards\n",
    "    elif my_hand[0][0].value == 10 or my_hand[0][0].value == 10:       \n",
    "        if my_hand[0][0].value == 10:                                  \n",
    "            if my_hand[1][0].value >= 6:                               \n",
    "                play = ANTE * 4\n",
    "            elif my_hand[0][1].value == my_hand[1][1].value and my_hand[1][0].value >= 4:           \n",
    "                play = ANTE * 4\n",
    "\n",
    "        if my_hand[1][0].value == 10:                                  \n",
    "            if my_hand[0][0].value >= 6:                               \n",
    "                play = ANTE * 4\n",
    "            elif my_hand[1][1].value == my_hand[0][1].value and my_hand[1][0].value >= 4:          \n",
    "                play = ANTE * 4\n",
    "\n",
    "    # check if there is a jack 10 or jack 8 suited in the personal cards\n",
    "    elif my_hand[0][0].value == 9 or my_hand[0][0].value == 9:       \n",
    "        if my_hand[0][0].value == 9:                                  \n",
    "            if my_hand[1][0].value >= 8:                               \n",
    "                play = ANTE * 4\n",
    "            elif my_hand[0][1].value == my_hand[1][1].value and my_hand[1][0].value >= 6:           \n",
    "                play = ANTE * 4\n",
    "\n",
    "        if my_hand[1][0].value == 9:                                  \n",
    "            if my_hand[0][0].value >= 8:                               \n",
    "                play = ANTE * 4\n",
    "            elif my_hand[1][1].value == my_hand[0][1].value and my_hand[1][0].value >= 6:          \n",
    "                play = ANTE * 4\n",
    "\n",
    "    # check if there is any valuable combination that is not only from the flop\n",
    "    elif HandParser(my_hand + flop).handenum > HandParser(flop).handenum:\n",
    "        play = ANTE * 2\n",
    "        \n",
    "    # check if there is any valuable combination that requires personal cards\n",
    "    elif HandParser(my_hand + flop + river).handenum > HandParser(flop + river).handenum:\n",
    "        play = ANTE\n",
    "\n",
    "    else:\n",
    "        play = 0\n",
    "        \n",
    "    return play"
   ]
  },
  {
   "cell_type": "code",
   "execution_count": 8,
   "id": "d39dbd9d",
   "metadata": {},
   "outputs": [
    {
     "data": {
      "text/plain": [
       "0"
      ]
     },
     "execution_count": 8,
     "metadata": {},
     "output_type": "execute_result"
    }
   ],
   "source": [
    "my_hand, dealer_hand, flop, river = set_board(deck)\n",
    "get_bet(ANTE, my_hand, flop, river)"
   ]
  },
  {
   "cell_type": "code",
   "execution_count": 9,
   "id": "980a4e78",
   "metadata": {},
   "outputs": [],
   "source": [
    "def get_hand_win(my_hand, dealer_hand, flop, river, play, ANTE, full_bet):\n",
    "    my_full = HandParser(my_hand + flop + river).handenum\n",
    "    dealer_full = HandParser(dealer_hand + flop + river).handenum\n",
    "\n",
    "    win = 0\n",
    "    win_flag = False\n",
    "    \n",
    "    if dealer_full > my_full: # dealer wins \n",
    "        win = 0\n",
    "        win_flag = False\n",
    "        \n",
    "    elif my_full > dealer_full and dealer_full > 0: # you win and dealer qualifies\n",
    "        win = (play * 2) + (ANTE * 2)\n",
    "        win_flag = True\n",
    "        \n",
    "    elif my_full > dealer_full and dealer_full == 0: # you win and dealer does not qualify\n",
    "        win = (play * 2) + ANTE\n",
    "        win_flag = True\n",
    "        \n",
    "    elif my_full == dealer_full: # your hand is equal to the dealer\n",
    "        try: \n",
    "            my_kick = list(HandParser(my_hand + flop + river).kickercards)[0][0].value\n",
    "            dealer_kick = list(HandParser(dealer_hand + flop + river).kickercards)[0][0].value\n",
    "            \n",
    "            # look into kicker cards\n",
    "            if my_kick == dealer_kick: # push\n",
    "                win = full_bet\n",
    "                win_flag = False\n",
    "            elif my_kick > dealer_kick and my_full == 0: # win and dealer does not qualify\n",
    "                win = play\n",
    "                win_flag = True\n",
    "            elif my_kick > dealer_kick and my_full > 0: # win and does qualify\n",
    "                win = full_bet\n",
    "                win_flag = True\n",
    "        except:\n",
    "            win = full_bet\n",
    "            win_flag = False\n",
    "    else:\n",
    "        win = 0\n",
    "        win_flag = False\n",
    "            \n",
    "    return win"
   ]
  },
  {
   "cell_type": "code",
   "execution_count": 10,
   "id": "a9415adc",
   "metadata": {},
   "outputs": [],
   "source": [
    "def get_blind_win(my_hand, flop, river, BLIND):\n",
    "    blind_win = 0\n",
    "    my_full = HandParser(my_hand + flop + river).handenum\n",
    "    \n",
    "    if my_full == 4: # straight\n",
    "        blind_win = BLIND\n",
    "    elif my_full == 5: # flush\n",
    "        blind_win = BLIND * 1.5\n",
    "    elif my_full == 6: # full house\n",
    "        blind_win = BLIND * 3\n",
    "    elif my_full == 7: # quads\n",
    "        blind_win = BLIND * 10\n",
    "    elif my_full == 8: # straight flush\n",
    "        blind_win = BLIND * 50\n",
    "    elif my_full == 9: # royal fluxh\n",
    "        blind_win = BLIND * 500\n",
    "    \n",
    "    return blind_win"
   ]
  },
  {
   "cell_type": "code",
   "execution_count": 11,
   "id": "54f8178c",
   "metadata": {},
   "outputs": [],
   "source": [
    "# simulate\n",
    "\n",
    "def play_game_n_rounds(n, bank_roll, deck, ANTE, BLIND, my_hand, dealer_hand, flop, river):\n",
    "    plays = []\n",
    "    tot_win = 0\n",
    "\n",
    "    for i in range(n): \n",
    "        my_hand, dealer_hand, flop, river = set_board(deck)\n",
    "        play = get_bet(ANTE, my_hand, flop, river)\n",
    "        \n",
    "        print(f'start br:{bank_roll}')    \n",
    "        # check win\n",
    "        full_bet = play + ANTE + BLIND\n",
    "\n",
    "        if bank_roll < full_bet:\n",
    "            break\n",
    "\n",
    "        bank_roll -= full_bet\n",
    "        print(f'bet br:{bank_roll}') \n",
    "\n",
    "        if play > 0:\n",
    "            win = get_hand_win(my_hand, dealer_hand, flop, river, play, ANTE, full_bet)\n",
    "            \n",
    "            if win > 0:\n",
    "                pass\n",
    "\n",
    "            tot_win += win\n",
    "            bank_roll += win\n",
    "            print(f'win {win}')\n",
    "            print(f'win br:{bank_roll}\\n') \n",
    "            plays.append([bank_roll, win])\n",
    "        else:\n",
    "            win = 0\n",
    "            print(f'win {win}')\n",
    "            print(f'win br:{bank_roll}\\n') \n",
    "            plays.append([bank_roll, win])\n",
    "\n",
    "    return plays"
   ]
  },
  {
   "cell_type": "code",
   "execution_count": 12,
   "id": "9ce7fd39",
   "metadata": {},
   "outputs": [
    {
     "name": "stdout",
     "output_type": "stream",
     "text": [
      "start br:200\n",
      "bet br:190\n",
      "win 0\n",
      "win br:190\n",
      "\n",
      "start br:190\n",
      "bet br:180\n",
      "win 0\n",
      "win br:180\n",
      "\n",
      "start br:180\n",
      "bet br:170\n",
      "win 0\n",
      "win br:170\n",
      "\n",
      "start br:170\n",
      "bet br:160\n",
      "win 0\n",
      "win br:160\n",
      "\n",
      "start br:160\n",
      "bet br:150\n",
      "win 0\n",
      "win br:150\n",
      "\n",
      "start br:150\n",
      "bet br:120\n",
      "win 0\n",
      "win br:120\n",
      "\n",
      "start br:120\n",
      "bet br:100\n",
      "win 30\n",
      "win br:130\n",
      "\n",
      "start br:130\n",
      "bet br:100\n",
      "win 45\n",
      "win br:145\n",
      "\n",
      "start br:145\n",
      "bet br:115\n",
      "win 30\n",
      "win br:145\n",
      "\n",
      "start br:145\n",
      "bet br:125\n",
      "win 25\n",
      "win br:150\n",
      "\n",
      "[[190, 0], [180, 0], [170, 0], [160, 0], [150, 0], [120, 0], [130, 30], [145, 45], [145, 30], [150, 25]]\n"
     ]
    }
   ],
   "source": [
    "n = 10\n",
    "bank_roll= 200\n",
    "plays = play_game_n_rounds(n, bank_roll, deck, ANTE, BLIND, my_hand, dealer_hand, flop, river)\n",
    "print(plays)"
   ]
  },
  {
   "cell_type": "markdown",
   "id": "0cb81ba4",
   "metadata": {},
   "source": [
    "# Test Code"
   ]
  },
  {
   "cell_type": "code",
   "execution_count": 13,
   "id": "02c1f4a3",
   "metadata": {},
   "outputs": [],
   "source": [
    "my_hand = board[0:2]\n",
    "dealer_hand = board[2:4]\n",
    "flop = board[4:7]\n",
    "river = board[7:9]\n",
    "\n",
    "full_board = board[4:9]"
   ]
  },
  {
   "cell_type": "code",
   "execution_count": 46,
   "id": "8f7a08f5",
   "metadata": {},
   "outputs": [
    {
     "name": "stdout",
     "output_type": "stream",
     "text": [
      "8\n"
     ]
    }
   ],
   "source": [
    "tst_hand = [\n",
    "    (Rank.TEN, Suit.SPADE),#\n",
    "    (Rank.JACK, Suit.SPADE),#\n",
    "    (Rank.THREE, Suit.DIAMOND),\n",
    "    (Rank.FOUR, Suit.HEART),\n",
    "    (Rank.FOUR, Suit.SPADE),#\n",
    "    (Rank.QUEEN, Suit.SPADE),#\n",
    "    (Rank.KING, Suit.SPADE),#\n",
    "    (Rank.ACE, Suit.SPADE),#\n",
    "    (Rank.THREE, Suit.DIAMOND)#\n",
    "]\n",
    "my_hand = tst_hand[0:2]\n",
    "dealer_hand = tst_hand[2:4]\n",
    "flop = tst_hand[4:7]\n",
    "river = tst_hand[7:9]\n",
    "\n",
    "full_hand = HandParser(my_hand + flop + river).handenum\n",
    "\n",
    "print(full_hand)"
   ]
  },
  {
   "cell_type": "code",
   "execution_count": 15,
   "id": "89a6180e",
   "metadata": {},
   "outputs": [
    {
     "data": {
      "text/plain": [
       "'EIGHT'"
      ]
     },
     "execution_count": 15,
     "metadata": {},
     "output_type": "execute_result"
    }
   ],
   "source": [
    "my_hand[0][0].name"
   ]
  },
  {
   "cell_type": "code",
   "execution_count": 16,
   "id": "d0cfcdca",
   "metadata": {},
   "outputs": [
    {
     "data": {
      "text/plain": [
       "[(<Rank.EIGHT: 6>, <Suit.SPADE: 0>),\n",
       " (<Rank.TWO: 0>, <Suit.SPADE: 0>),\n",
       " (<Rank.SIX: 4>, <Suit.HEART: 3>),\n",
       " (<Rank.TEN: 8>, <Suit.SPADE: 0>),\n",
       " (<Rank.FOUR: 2>, <Suit.CLUB: 1>)]"
      ]
     },
     "execution_count": 16,
     "metadata": {},
     "output_type": "execute_result"
    }
   ],
   "source": [
    "my_hand\n",
    "HandParser(my_hand + flop).handenum\n",
    "my_hand + flop"
   ]
  },
  {
   "cell_type": "code",
   "execution_count": 17,
   "id": "e8918b79",
   "metadata": {},
   "outputs": [
    {
     "ename": "AttributeError",
     "evalue": "'list' object has no attribute 'handenum'",
     "output_type": "error",
     "traceback": [
      "\u001b[1;31m---------------------------------------------------------------------------\u001b[0m",
      "\u001b[1;31mAttributeError\u001b[0m                            Traceback (most recent call last)",
      "Cell \u001b[1;32mIn[17], line 8\u001b[0m\n\u001b[0;32m      5\u001b[0m my_hand \u001b[38;5;241m+\u001b[39m\u001b[38;5;241m=\u001b[39m board \u001b[38;5;66;03m# add the board to hand1\u001b[39;00m\n\u001b[0;32m      6\u001b[0m dealer_hand \u001b[38;5;241m+\u001b[39m\u001b[38;5;241m=\u001b[39m board \u001b[38;5;66;03m# add the board to hand2\u001b[39;00m\n\u001b[1;32m----> 8\u001b[0m \u001b[38;5;28mprint\u001b[39m(my_hand\u001b[38;5;241m.\u001b[39mhandenum) \u001b[38;5;66;03m# Hand.STRAIGHTFLUSH\u001b[39;00m\n\u001b[0;32m      9\u001b[0m \u001b[38;5;28mprint\u001b[39m(dealer_hand\u001b[38;5;241m.\u001b[39mhandenum) \u001b[38;5;66;03m# Hand.STRAIGHTFLUSH\u001b[39;00m\n\u001b[0;32m     10\u001b[0m \u001b[38;5;28mprint\u001b[39m(my_hand \u001b[38;5;241m>\u001b[39m dealer_hand)\n",
      "\u001b[1;31mAttributeError\u001b[0m: 'list' object has no attribute 'handenum'"
     ]
    }
   ],
   "source": [
    "# odds \n",
    "# strategy\n",
    "\n",
    "# add new cards to each hand\n",
    "my_hand += board # add the board to hand1\n",
    "dealer_hand += board # add the board to hand2\n",
    "\n",
    "print(my_hand.handenum) # Hand.STRAIGHTFLUSH\n",
    "print(dealer_hand.handenum) # Hand.STRAIGHTFLUSH\n",
    "print(my_hand > dealer_hand) # True"
   ]
  },
  {
   "cell_type": "code",
   "execution_count": null,
   "id": "48f04e3a",
   "metadata": {},
   "outputs": [],
   "source": [
    "hand1 = [\n",
    "    (Rank.KING, Suit.SPADE),\n",
    "    (Rank.JACK, Suit.SPADE)\n",
    "]\n",
    "hand1[1][0].value"
   ]
  },
  {
   "cell_type": "code",
   "execution_count": null,
   "id": "0ec3def9",
   "metadata": {},
   "outputs": [],
   "source": [
    "hand1[1][0].value"
   ]
  }
 ],
 "metadata": {
  "kernelspec": {
   "display_name": "Python 3 (ipykernel)",
   "language": "python",
   "name": "python3"
  },
  "language_info": {
   "codemirror_mode": {
    "name": "ipython",
    "version": 3
   },
   "file_extension": ".py",
   "mimetype": "text/x-python",
   "name": "python",
   "nbconvert_exporter": "python",
   "pygments_lexer": "ipython3",
   "version": "3.11.4"
  }
 },
 "nbformat": 4,
 "nbformat_minor": 5
}
