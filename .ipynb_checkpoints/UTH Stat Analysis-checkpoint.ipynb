{
 "cells": [
  {
   "cell_type": "code",
   "execution_count": 1,
   "id": "61ae0299",
   "metadata": {},
   "outputs": [],
   "source": [
    "import pandas as pd\n",
    "import numpy as np\n",
    "import random\n",
    "from pokerlib import HandParser\n",
    "from pokerlib.enums import Rank, Suit\n",
    "from matplotlib import pyplot as plt\n",
    "from fitter import Fitter, get_common_distributions, get_distributions"
   ]
  },
  {
   "cell_type": "markdown",
   "id": "43b2564d",
   "metadata": {},
   "source": [
    "https://www.pokernews.com/casino/video-poker/ultimate-texas-holdem.htm\n",
    "\n",
    "https://pypi.org/project/pokerlib/"
   ]
  },
  {
   "cell_type": "markdown",
   "id": "441aae24-72f4-48da-9dc5-21706e0d4c04",
   "metadata": {},
   "source": [
    "# Setup game structure"
   ]
  },
  {
   "cell_type": "code",
   "execution_count": 2,
   "id": "54f5375f",
   "metadata": {},
   "outputs": [],
   "source": [
    "# create deck\n",
    "suits = [\n",
    "    Suit.HEART, \n",
    "    Suit.DIAMOND, \n",
    "    Suit.SPADE, \n",
    "    Suit.CLUB\n",
    "]\n",
    "values = [\n",
    "    Rank.TWO,\n",
    "    Rank.THREE,\n",
    "    Rank.FOUR,\n",
    "    Rank.FIVE,\n",
    "    Rank.SIX,\n",
    "    Rank.SEVEN,\n",
    "    Rank.EIGHT,\n",
    "    Rank.NINE,\n",
    "    Rank.TEN,\n",
    "    Rank.JACK,\n",
    "    Rank.QUEEN,\n",
    "    Rank.KING,\n",
    "    Rank.ACE\n",
    "]\n",
    "\n",
    "deck = [(value, suit) for value in values for suit in suits]"
   ]
  },
  {
   "cell_type": "code",
   "execution_count": 3,
   "id": "1d4c7905",
   "metadata": {},
   "outputs": [
    {
     "data": {
      "text/plain": [
       "52"
      ]
     },
     "execution_count": 3,
     "metadata": {},
     "output_type": "execute_result"
    }
   ],
   "source": [
    "len(deck)"
   ]
  },
  {
   "cell_type": "code",
   "execution_count": 4,
   "id": "fba93158",
   "metadata": {},
   "outputs": [
    {
     "data": {
      "text/plain": [
       "[(<Rank.SEVEN: 5>, <Suit.DIAMOND: 2>),\n",
       " (<Rank.FOUR: 2>, <Suit.CLUB: 1>),\n",
       " (<Rank.FIVE: 3>, <Suit.CLUB: 1>),\n",
       " (<Rank.SIX: 4>, <Suit.DIAMOND: 2>),\n",
       " (<Rank.EIGHT: 6>, <Suit.HEART: 3>),\n",
       " (<Rank.THREE: 1>, <Suit.SPADE: 0>),\n",
       " (<Rank.QUEEN: 10>, <Suit.SPADE: 0>),\n",
       " (<Rank.NINE: 7>, <Suit.HEART: 3>),\n",
       " (<Rank.THREE: 1>, <Suit.DIAMOND: 2>)]"
      ]
     },
     "execution_count": 4,
     "metadata": {},
     "output_type": "execute_result"
    }
   ],
   "source": [
    "board = random.sample(deck, 9)\n",
    "board"
   ]
  },
  {
   "cell_type": "code",
   "execution_count": 5,
   "id": "903c7c96",
   "metadata": {},
   "outputs": [],
   "source": []
  },
  {
   "cell_type": "code",
   "execution_count": 6,
   "id": "93a83a89",
   "metadata": {},
   "outputs": [],
   "source": [
    "def set_board(deck):\n",
    "    board = random.sample(deck, 9)\n",
    "    \n",
    "    my_hand = board[0:2]\n",
    "    dealer_hand = board[2:4]\n",
    "    flop = board[4:7]\n",
    "    river = board[7:9]\n",
    "    \n",
    "    return(my_hand, dealer_hand, flop, river)\n"
   ]
  },
  {
   "cell_type": "markdown",
   "id": "4c393f3b-0b39-4a14-a6ac-77b669d3af40",
   "metadata": {},
   "source": [
    "# Set Strategy\n",
    "\n",
    "Strategy is copied from this blog post: https://www.pokernews.com/casino/video-poker/ultimate-texas-holdem.htm#best-ultimate-texas"
   ]
  },
  {
   "cell_type": "code",
   "execution_count": 7,
   "id": "2c92635f",
   "metadata": {},
   "outputs": [],
   "source": [
    "def get_bet(ANTE, my_hand, flop, river):\n",
    "    play = 0\n",
    "    # Check if there is a hole pair\n",
    "    if HandParser(my_hand).handenum >= 1:\n",
    "        play = ANTE * 4\n",
    "\n",
    "    # check if there is an ace in the personal cards\n",
    "    elif my_hand[0][0].name == 'ACE' or my_hand[0][0].name == 'ACE':\n",
    "        play = ANTE * 4\n",
    "\n",
    "    # check if there is a king 5 or king suited in the personal cards\n",
    "    elif my_hand[0][0].value == 11 or my_hand[0][0].value == 11:       # check if one of cards is a king\n",
    "        if my_hand[0][0].value == 11:                                  # first card is a king\n",
    "            if my_hand[1][0].value >= 3:                               # second card value is greater than or equal to 5\n",
    "                play = ANTE * 4\n",
    "            elif my_hand[0][1].value == my_hand[1][1].value:           # second card is suited with first\n",
    "                play = ANTE * 4\n",
    "\n",
    "        if my_hand[1][0].value == 11:                                  # second card is a king\n",
    "            if my_hand[0][0].value >= 3:                               # second card value is greater than or equal to 5\n",
    "                play = ANTE * 4\n",
    "            elif my_hand[1][1].value == my_hand[0][1].value:           # second card is suited with first\n",
    "                play = ANTE * 4\n",
    "\n",
    "    # check if there is a queen 8 or queen suited 8 in the personal cards\n",
    "    elif my_hand[0][0].value == 10 or my_hand[0][0].value == 10:       \n",
    "        if my_hand[0][0].value == 10:                                  \n",
    "            if my_hand[1][0].value >= 6:                               \n",
    "                play = ANTE * 4\n",
    "            elif my_hand[0][1].value == my_hand[1][1].value and my_hand[1][0].value >= 4:           \n",
    "                play = ANTE * 4\n",
    "\n",
    "        if my_hand[1][0].value == 10:                                  \n",
    "            if my_hand[0][0].value >= 6:                               \n",
    "                play = ANTE * 4\n",
    "            elif my_hand[1][1].value == my_hand[0][1].value and my_hand[1][0].value >= 4:          \n",
    "                play = ANTE * 4\n",
    "\n",
    "    # check if there is a jack 10 or jack 8 suited in the personal cards\n",
    "    elif my_hand[0][0].value == 9 or my_hand[0][0].value == 9:       \n",
    "        if my_hand[0][0].value == 9:                                  \n",
    "            if my_hand[1][0].value >= 8:                               \n",
    "                play = ANTE * 4\n",
    "            elif my_hand[0][1].value == my_hand[1][1].value and my_hand[1][0].value >= 6:           \n",
    "                play = ANTE * 4\n",
    "\n",
    "        if my_hand[1][0].value == 9:                                  \n",
    "            if my_hand[0][0].value >= 8:                               \n",
    "                play = ANTE * 4\n",
    "            elif my_hand[1][1].value == my_hand[0][1].value and my_hand[1][0].value >= 6:          \n",
    "                play = ANTE * 4\n",
    "\n",
    "    # check if there is any valuable combination that is not only from the flop\n",
    "    elif HandParser(my_hand + flop).handenum > HandParser(flop).handenum:\n",
    "        play = ANTE * 2\n",
    "        \n",
    "    # check if there is any valuable combination that requires personal cards\n",
    "    elif HandParser(my_hand + flop + river).handenum > HandParser(flop + river).handenum:\n",
    "        play = ANTE\n",
    "\n",
    "    else:\n",
    "        play = 0\n",
    "        \n",
    "    return play"
   ]
  },
  {
   "cell_type": "code",
   "execution_count": 8,
   "id": "d39dbd9d",
   "metadata": {},
   "outputs": [
    {
     "data": {
      "text/plain": [
       "0"
      ]
     },
     "execution_count": 8,
     "metadata": {},
     "output_type": "execute_result"
    }
   ],
   "source": [
    "my_hand, dealer_hand, flop, river = set_board(deck)\n",
    "get_bet(ANTE, my_hand, flop, river)"
   ]
  },
  {
   "cell_type": "markdown",
   "id": "3d388ac4-cc01-4b88-bf87-2e380060f36d",
   "metadata": {},
   "source": [
    "# Create win calculations based on card drawings"
   ]
  },
  {
   "cell_type": "code",
   "execution_count": 9,
   "id": "980a4e78",
   "metadata": {},
   "outputs": [],
   "source": [
    "def get_hand_win(my_hand, dealer_hand, flop, river, play, ANTE, full_bet):\n",
    "    my_full = HandParser(my_hand + flop + river).handenum\n",
    "    dealer_full = HandParser(dealer_hand + flop + river).handenum\n",
    "\n",
    "    win = 0\n",
    "    win_flag = False\n",
    "    \n",
    "    if dealer_full > my_full: # dealer wins \n",
    "        win = 0\n",
    "        win_flag = False\n",
    "        \n",
    "    elif my_full > dealer_full and dealer_full > 0: # you win and dealer qualifies\n",
    "        win = (play * 2) + (ANTE * 2)\n",
    "        win_flag = True\n",
    "        \n",
    "    elif my_full > dealer_full and dealer_full == 0: # you win and dealer does not qualify\n",
    "        win = (play * 2) + ANTE\n",
    "        win_flag = True\n",
    "        \n",
    "    elif my_full == dealer_full: # your hand is equal to the dealer\n",
    "        try: \n",
    "            my_kick = list(HandParser(my_hand + flop + river).kickercards)[0][0].value\n",
    "            dealer_kick = list(HandParser(dealer_hand + flop + river).kickercards)[0][0].value\n",
    "            \n",
    "            # look into kicker cards\n",
    "            if my_kick == dealer_kick: # push\n",
    "                win = full_bet\n",
    "                win_flag = False\n",
    "            elif my_kick > dealer_kick and my_full == 0: # win and dealer does not qualify\n",
    "                win = play\n",
    "                win_flag = True\n",
    "            elif my_kick > dealer_kick and my_full > 0: # win and does qualify\n",
    "                win = full_bet\n",
    "                win_flag = True\n",
    "        except:\n",
    "            win = full_bet\n",
    "            win_flag = False\n",
    "    else:\n",
    "        win = 0\n",
    "        win_flag = False\n",
    "            \n",
    "    return win"
   ]
  },
  {
   "cell_type": "code",
   "execution_count": 10,
   "id": "a9415adc",
   "metadata": {},
   "outputs": [],
   "source": [
    "def get_blind_win(my_hand, flop, river, BLIND):\n",
    "    blind_win = 0\n",
    "    my_full = HandParser(my_hand + flop + river).handenum\n",
    "    \n",
    "    if my_full == 4: # straight\n",
    "        blind_win = BLIND\n",
    "    elif my_full == 5: # flush\n",
    "        blind_win = BLIND * 1.5\n",
    "    elif my_full == 6: # full house\n",
    "        blind_win = BLIND * 3\n",
    "    elif my_full == 7: # quads\n",
    "        blind_win = BLIND * 10\n",
    "    elif my_full == 8: # straight flush\n",
    "        blind_win = BLIND * 50\n",
    "    elif my_full == 9: # royal fluxh\n",
    "        blind_win = BLIND * 500\n",
    "    \n",
    "    return blind_win"
   ]
  },
  {
   "cell_type": "code",
   "execution_count": 11,
   "id": "6e10f3b7-78fa-4931-80c8-79feb197c5b0",
   "metadata": {},
   "outputs": [],
   "source": [
    "def get_trips_win(my_hand, flop, river, TRIPS):\n",
    "    trips_win = 0\n",
    "    my_full = HandParser(my_hand + flop + river).handenum\n",
    "    \n",
    "    if my_full == 3: # three of a kind\n",
    "        trips_win = TRIPS * 3\n",
    "    elif my_full == 4: # straight\n",
    "        trips_win = TRIPS * 4\n",
    "    elif my_full == 5: # flush\n",
    "        trips_win = TRIPS * 7\n",
    "    elif my_full == 6: # full house\n",
    "        trips_win = TRIPS * 8\n",
    "    elif my_full == 7: # quads\n",
    "        trips_win = TRIPS * 30\n",
    "    elif my_full == 8: # straight flush\n",
    "        trips_win = TRIPS * 40\n",
    "    elif my_full == 9: # royal fluxh\n",
    "        trips_win = TRIPS * 50\n",
    "\n",
    "    return trips_win\n",
    "             "
   ]
  },
  {
   "cell_type": "markdown",
   "id": "c524e678-c5c9-4f34-8e4c-94d92dff0add",
   "metadata": {},
   "source": [
    "# Play rounds"
   ]
  },
  {
   "cell_type": "code",
   "execution_count": 12,
   "id": "54f8178c",
   "metadata": {},
   "outputs": [],
   "source": [
    "def play_game_n_rounds(n, bank_roll, deck, ANTE, BLIND, TRIPS):\n",
    "    plays = []\n",
    "    tot_win = 0\n",
    "    \n",
    "    for i in range(n): \n",
    "        my_hand, dealer_hand, flop, river = set_board(deck)\n",
    "        play = get_bet(ANTE, my_hand, flop, river)\n",
    "        \n",
    "        # check win\n",
    "        full_bet = play + ANTE + BLIND + TRIPS\n",
    "\n",
    "        if bank_roll < full_bet:\n",
    "            break\n",
    "\n",
    "        start_br = bank_roll\n",
    "        bank_roll -= full_bet\n",
    "        after_bet_br = bank_roll\n",
    "\n",
    "        if play > 0:\n",
    "            win = get_hand_win(my_hand, dealer_hand, flop, river, play, ANTE, full_bet)\n",
    "            \n",
    "            if win > 0:\n",
    "                b_win = get_blind_win(my_hand, flop, river, BLIND)\n",
    "                win += b_win\n",
    "    \n",
    "            trips_win = get_trips_win(my_hand, flop, river, TRIPS)\n",
    "            \n",
    "            tot_win += win\n",
    "            tot_win += trips_win\n",
    "            bank_roll += win\n",
    "            bank_roll += trips_win\n",
    "            end_br = bank_roll\n",
    "            plays.append([start_br, after_bet_br, end_br, full_bet, tot_win])\n",
    "        else:\n",
    "            win = 0\n",
    "            trips_win = get_trips_win(my_hand, flop, river, TRIPS)\n",
    "            tot_win = win + trips_win\n",
    "            end_br = bank_roll + trips_win\n",
    "            plays.append([start_br, after_bet_br, end_br, full_bet, tot_win])\n",
    "\n",
    "    return plays"
   ]
  },
  {
   "cell_type": "markdown",
   "id": "bdbbcae7-e0e3-41ad-b790-b804b57ebd3a",
   "metadata": {},
   "source": [
    "# Simulate num_sims number of games\n",
    "\n",
    "In this simulation each game will be played until there is no more money in the bankroll, or played n number of rounds"
   ]
  },
  {
   "cell_type": "code",
   "execution_count": 38,
   "id": "9ce7fd39",
   "metadata": {},
   "outputs": [
    {
     "name": "stdout",
     "output_type": "stream",
     "text": [
      "[[200, 180, 195, 20, 15], [195, 170, 255, 25, 100], [255, 240, 240, 15, 0], [240, 215, 240, 25, 25], [240, 225, 225, 15, 0], [225, 200, 280, 25, 80], [280, 260, 280, 20, 100], [280, 255, 255, 25, 100], [255, 240, 240, 15, 0], [240, 215, 260, 25, 45], [260, 245, 245, 15, 0], [245, 230, 230, 15, 0], [230, 205, 277.5, 25, 72.5], [277.5, 262.5, 262.5, 15, 0], [262.5, 247.5, 247.5, 15, 0], [247.5, 227.5, 242.5, 20, 15], [242.5, 227.5, 242.5, 15, 15], [227.5, 192.5, 192.5, 35, 15], [192.5, 157.5, 192.5, 35, 50], [192.5, 172.5, 187.5, 20, 65], [187.5, 152.5, 257.5, 35, 170], [257.5, 242.5, 242.5, 15, 0], [242.5, 222.5, 285.0, 20, 62.5], [285.0, 270.0, 270.0, 15, 0], [270.0, 245.0, 270.0, 25, 25], [270.0, 235.0, 280.0, 35, 70], [280.0, 255.0, 285.0, 25, 100], [285.0, 270.0, 270.0, 15, 0], [270.0, 235.0, 270.0, 35, 35], [270.0, 255.0, 255.0, 15, 0], [255.0, 235.0, 255.0, 20, 20], [255.0, 240.0, 280.0, 15, 40], [240.0, 205.0, 297.5, 35, 132.5], [297.5, 277.5, 297.5, 20, 152.5], [297.5, 272.5, 302.5, 25, 182.5], [302.5, 267.5, 282.5, 35, 197.5], [282.5, 262.5, 277.5, 20, 212.5], [277.5, 252.5, 277.5, 25, 237.5], [277.5, 252.5, 277.5, 25, 262.5], [277.5, 262.5, 262.5, 15, 0], [262.5, 247.5, 247.5, 15, 0], [247.5, 222.5, 267.5, 25, 45], [267.5, 242.5, 242.5, 25, 45], [242.5, 227.5, 227.5, 15, 0], [227.5, 192.5, 207.5, 35, 15], [207.5, 182.5, 207.5, 25, 40], [207.5, 182.5, 212.5, 25, 70], [212.5, 192.5, 207.5, 20, 85], [207.5, 182.5, 207.5, 25, 110], [207.5, 172.5, 207.5, 35, 145], [207.5, 192.5, 192.5, 15, 0], [192.5, 177.5, 177.5, 15, 0], [177.5, 157.5, 157.5, 20, 0], [157.5, 142.5, 142.5, 15, 0], [142.5, 107.5, 152.5, 35, 45], [152.5, 137.5, 137.5, 15, 0], [137.5, 117.5, 137.5, 20, 20], [137.5, 102.5, 102.5, 35, 20], [102.5, 87.5, 87.5, 15, 0], [87.5, 67.5, 130.0, 20, 62.5], [130.0, 105.0, 130.0, 25, 87.5], [130.0, 110.0, 125.0, 20, 102.5], [125.0, 105.0, 125.0, 20, 122.5], [125.0, 110.0, 110.0, 15, 0], [110.0, 75.0, 75.0, 35, 0], [75.0, 60.0, 80.0, 15, 20], [60.0, 35.0, 60.0, 25, 45], [60.0, 45.0, 60.0, 15, 15], [45.0, 10.0, 45.0, 35, 50], [45.0, 30.0, 30.0, 15, 0], [30.0, 10.0, 30.0, 20, 20], [30.0, 15.0, 15.0, 15, 0]]\n"
     ]
    }
   ],
   "source": [
    "# game process\n",
    "ANTE = 5\n",
    "BLIND = ANTE\n",
    "play = None\n",
    "TRIPS = 5\n",
    "n = 100\n",
    "bank_roll= 200\n",
    "\n",
    "# play one game win max n rounds\n",
    "plays = play_game_n_rounds(n, bank_roll, deck, ANTE, BLIND, TRIPS)\n",
    "print(plays) # [start_br, after_bet_br, end_br, full_bet, tot_win]"
   ]
  },
  {
   "cell_type": "code",
   "execution_count": 14,
   "id": "79274156",
   "metadata": {},
   "outputs": [],
   "source": [
    "num_sims = 10000\n",
    "n = 1000\n",
    "bank_roll= 200\n",
    "play_history = []\n",
    "\n",
    "for x in range(num_sims):\n",
    "    play = play_game_n_rounds(n, bank_roll, deck, ANTE, BLIND, TRIPS)\n",
    "    play_history.append(play)"
   ]
  },
  {
   "cell_type": "markdown",
   "id": "c4817923-921f-47c5-a49e-82fd8f373768",
   "metadata": {},
   "source": [
    "# Perform analysis on results\n",
    "\n",
    "This analysis will include fitting the best distribution for both the number of rounds played before going bust, and the maximum bank roll reached during the game. \n",
    "\n",
    "It will also include code to calculate odds of reaching a value for each of the previously mentioned metrics."
   ]
  },
  {
   "cell_type": "code",
   "execution_count": 15,
   "id": "bd39e256",
   "metadata": {},
   "outputs": [],
   "source": [
    "# Analyze results\n",
    "durations = []\n",
    "\n",
    "for play in play_history:\n",
    "    durations.append(len(play))"
   ]
  },
  {
   "cell_type": "code",
   "execution_count": 16,
   "id": "528381f2",
   "metadata": {},
   "outputs": [
    {
     "data": {
      "image/png": "[encoded data removed]",
      "text/plain": [
       "<Figure size 640x480 with 1 Axes>"
      ]
     },
     "metadata": {},
     "output_type": "display_data"
    },
    {
     "name": "stdout",
     "output_type": "stream",
     "text": [
      "Mean number of hands played before bust 36.1974\n",
      "Median number of hands played before bust 28.0\n"
     ]
    }
   ],
   "source": [
    "plt.hist(durations, bins=30, alpha=0.5)\n",
    "plt.title('Rounds played before going bust')\n",
    "plt.xlabel('Count')\n",
    "plt.ylabel('Rounds')\n",
    "\n",
    "plt.show()\n",
    "\n",
    "print(f'Mean number of hands played before bust {np.mean(durations)}')\n",
    "print(f'Median number of hands played before bust {np.median(durations)}')\n",
    "\n"
   ]
  },
  {
   "cell_type": "code",
   "execution_count": 17,
   "id": "d0272408-e9c0-4d50-bb24-99d442c0f147",
   "metadata": {},
   "outputs": [
    {
     "data": {
      "text/html": [
       "<div>\n",
       "<style scoped>\n",
       "    .dataframe tbody tr th:only-of-type {\n",
       "        vertical-align: middle;\n",
       "    }\n",
       "\n",
       "    .dataframe tbody tr th {\n",
       "        vertical-align: top;\n",
       "    }\n",
       "\n",
       "    .dataframe thead th {\n",
       "        text-align: right;\n",
       "    }\n",
       "</style>\n",
       "<table border=\"1\" class=\"dataframe\">\n",
       "  <thead>\n",
       "    <tr style=\"text-align: right;\">\n",
       "      <th></th>\n",
       "      <th>sumsquare_error</th>\n",
       "      <th>aic</th>\n",
       "      <th>bic</th>\n",
       "      <th>kl_div</th>\n",
       "      <th>ks_statistic</th>\n",
       "      <th>ks_pvalue</th>\n",
       "    </tr>\n",
       "  </thead>\n",
       "  <tbody>\n",
       "    <tr>\n",
       "      <th>lognorm</th>\n",
       "      <td>0.000008</td>\n",
       "      <td>2128.854580</td>\n",
       "      <td>2150.485602</td>\n",
       "      <td>inf</td>\n",
       "      <td>0.023439</td>\n",
       "      <td>3.325842e-05</td>\n",
       "    </tr>\n",
       "    <tr>\n",
       "      <th>burr</th>\n",
       "      <td>0.000030</td>\n",
       "      <td>1875.974135</td>\n",
       "      <td>1904.815497</td>\n",
       "      <td>inf</td>\n",
       "      <td>0.026379</td>\n",
       "      <td>1.771504e-06</td>\n",
       "    </tr>\n",
       "    <tr>\n",
       "      <th>beta</th>\n",
       "      <td>0.000172</td>\n",
       "      <td>3184.281342</td>\n",
       "      <td>3213.122704</td>\n",
       "      <td>inf</td>\n",
       "      <td>0.076165</td>\n",
       "      <td>6.707739e-51</td>\n",
       "    </tr>\n",
       "    <tr>\n",
       "      <th>gamma</th>\n",
       "      <td>0.000398</td>\n",
       "      <td>4642.441660</td>\n",
       "      <td>4664.072681</td>\n",
       "      <td>inf</td>\n",
       "      <td>0.113037</td>\n",
       "      <td>9.334693e-112</td>\n",
       "    </tr>\n",
       "    <tr>\n",
       "      <th>norm</th>\n",
       "      <td>0.001106</td>\n",
       "      <td>10071.969194</td>\n",
       "      <td>10086.389875</td>\n",
       "      <td>inf</td>\n",
       "      <td>0.167451</td>\n",
       "      <td>1.467850e-245</td>\n",
       "    </tr>\n",
       "  </tbody>\n",
       "</table>\n",
       "</div>"
      ],
      "text/plain": [
       "         sumsquare_error           aic           bic  kl_div  ks_statistic  \\\n",
       "lognorm         0.000008   2128.854580   2150.485602     inf      0.023439   \n",
       "burr            0.000030   1875.974135   1904.815497     inf      0.026379   \n",
       "beta            0.000172   3184.281342   3213.122704     inf      0.076165   \n",
       "gamma           0.000398   4642.441660   4664.072681     inf      0.113037   \n",
       "norm            0.001106  10071.969194  10086.389875     inf      0.167451   \n",
       "\n",
       "             ks_pvalue  \n",
       "lognorm   3.325842e-05  \n",
       "burr      1.771504e-06  \n",
       "beta      6.707739e-51  \n",
       "gamma    9.334693e-112  \n",
       "norm     1.467850e-245  "
      ]
     },
     "execution_count": 17,
     "metadata": {},
     "output_type": "execute_result"
    },
    {
     "data": {
      "image/png": "[encoded data removed]",
      "text/plain": [
       "<Figure size 640x480 with 1 Axes>"
      ]
     },
     "metadata": {},
     "output_type": "display_data"
    }
   ],
   "source": [
    "f = Fitter(durations,\n",
    "           distributions=['gamma',\n",
    "                          'lognorm',\n",
    "                          \"beta\",\n",
    "                          \"burr\",\n",
    "                          \"norm\"])\n",
    "f.fit()\n",
    "f.summary()"
   ]
  },
  {
   "cell_type": "code",
   "execution_count": 18,
   "id": "aec1998a-77c8-4f07-bee0-f0ea479bee7b",
   "metadata": {},
   "outputs": [
    {
     "data": {
      "text/plain": [
       "{'lognorm': {'s': 0.7490410974228981,\n",
       "  'loc': 5.573814084728691,\n",
       "  'scale': 22.98135435852813}}"
      ]
     },
     "execution_count": 18,
     "metadata": {},
     "output_type": "execute_result"
    }
   ],
   "source": [
    "f.get_best(method = 'sumsquare_error')"
   ]
  },
  {
   "cell_type": "code",
   "execution_count": 19,
   "id": "58318882-219e-4bba-8aa9-924314b9de14",
   "metadata": {},
   "outputs": [
    {
     "data": {
      "text/plain": [
       "(0.7490410974228981, 5.573814084728691, 22.98135435852813)"
      ]
     },
     "execution_count": 19,
     "metadata": {},
     "output_type": "execute_result"
    }
   ],
   "source": [
    "f.fitted_param[\"lognorm\"]"
   ]
  },
  {
   "cell_type": "code",
   "execution_count": 31,
   "id": "5818fadd",
   "metadata": {},
   "outputs": [],
   "source": [
    "def max_value(inputlist):\n",
    "    return max([sublist[0] for sublist in inputlist])\n",
    "\n",
    "peaks = []\n",
    "\n",
    "for play in play_history:\n",
    "    peak = max_value(play)\n",
    "    \n",
    "    peaks.append(peak)"
   ]
  },
  {
   "cell_type": "code",
   "execution_count": 32,
   "id": "e487c06e",
   "metadata": {},
   "outputs": [
    {
     "data": {
      "image/png": "[encoded data removed]",
      "text/plain": [
       "<Figure size 640x480 with 1 Axes>"
      ]
     },
     "metadata": {},
     "output_type": "display_data"
    },
    {
     "name": "stdout",
     "output_type": "stream",
     "text": [
      "Mean peak bank roll 240.0225\n",
      "Median peak bank roll 210.0\n"
     ]
    }
   ],
   "source": [
    "plt.hist(peaks, bins=30, alpha=0.5)\n",
    "plt.title('Peak Bank Roll during play')\n",
    "plt.xlabel('Count')\n",
    "plt.ylabel('Max Bank Roll')\n",
    "\n",
    "plt.show()\n",
    "\n",
    "print(f'Mean peak bank roll {np.mean(peaks)}')\n",
    "print(f'Median peak bank roll {np.median(peaks)}')\n"
   ]
  },
  {
   "cell_type": "code",
   "execution_count": 33,
   "id": "63b7036b-2433-43ff-a7cd-72a4c917e407",
   "metadata": {},
   "outputs": [
    {
     "data": {
      "text/html": [
       "<div>\n",
       "<style scoped>\n",
       "    .dataframe tbody tr th:only-of-type {\n",
       "        vertical-align: middle;\n",
       "    }\n",
       "\n",
       "    .dataframe tbody tr th {\n",
       "        vertical-align: top;\n",
       "    }\n",
       "\n",
       "    .dataframe thead th {\n",
       "        text-align: right;\n",
       "    }\n",
       "</style>\n",
       "<table border=\"1\" class=\"dataframe\">\n",
       "  <thead>\n",
       "    <tr style=\"text-align: right;\">\n",
       "      <th></th>\n",
       "      <th>sumsquare_error</th>\n",
       "      <th>aic</th>\n",
       "      <th>bic</th>\n",
       "      <th>kl_div</th>\n",
       "      <th>ks_statistic</th>\n",
       "      <th>ks_pvalue</th>\n",
       "    </tr>\n",
       "  </thead>\n",
       "  <tbody>\n",
       "    <tr>\n",
       "      <th>beta</th>\n",
       "      <td>0.000250</td>\n",
       "      <td>4451.880240</td>\n",
       "      <td>4480.721601</td>\n",
       "      <td>inf</td>\n",
       "      <td>0.421291</td>\n",
       "      <td>0.0</td>\n",
       "    </tr>\n",
       "    <tr>\n",
       "      <th>burr</th>\n",
       "      <td>0.001472</td>\n",
       "      <td>2546.443567</td>\n",
       "      <td>2575.284928</td>\n",
       "      <td>inf</td>\n",
       "      <td>0.236722</td>\n",
       "      <td>0.0</td>\n",
       "    </tr>\n",
       "    <tr>\n",
       "      <th>norm</th>\n",
       "      <td>0.002165</td>\n",
       "      <td>5752.805977</td>\n",
       "      <td>5767.226658</td>\n",
       "      <td>inf</td>\n",
       "      <td>0.292461</td>\n",
       "      <td>0.0</td>\n",
       "    </tr>\n",
       "    <tr>\n",
       "      <th>lognorm</th>\n",
       "      <td>0.002412</td>\n",
       "      <td>2022.783778</td>\n",
       "      <td>2044.414799</td>\n",
       "      <td>inf</td>\n",
       "      <td>0.341181</td>\n",
       "      <td>0.0</td>\n",
       "    </tr>\n",
       "    <tr>\n",
       "      <th>gamma</th>\n",
       "      <td>0.002529</td>\n",
       "      <td>50070.401891</td>\n",
       "      <td>50092.032912</td>\n",
       "      <td>inf</td>\n",
       "      <td>0.569610</td>\n",
       "      <td>0.0</td>\n",
       "    </tr>\n",
       "  </tbody>\n",
       "</table>\n",
       "</div>"
      ],
      "text/plain": [
       "         sumsquare_error           aic           bic  kl_div  ks_statistic  \\\n",
       "beta            0.000250   4451.880240   4480.721601     inf      0.421291   \n",
       "burr            0.001472   2546.443567   2575.284928     inf      0.236722   \n",
       "norm            0.002165   5752.805977   5767.226658     inf      0.292461   \n",
       "lognorm         0.002412   2022.783778   2044.414799     inf      0.341181   \n",
       "gamma           0.002529  50070.401891  50092.032912     inf      0.569610   \n",
       "\n",
       "         ks_pvalue  \n",
       "beta           0.0  \n",
       "burr           0.0  \n",
       "norm           0.0  \n",
       "lognorm        0.0  \n",
       "gamma          0.0  "
      ]
     },
     "execution_count": 33,
     "metadata": {},
     "output_type": "execute_result"
    },
    {
     "data": {
      "image/png": "[encoded data removed]",
      "text/plain": [
       "<Figure size 640x480 with 1 Axes>"
      ]
     },
     "metadata": {},
     "output_type": "display_data"
    }
   ],
   "source": [
    "f2 = Fitter(peaks,\n",
    "           distributions=['gamma',\n",
    "                          'lognorm',\n",
    "                          \"beta\",\n",
    "                          \"burr\",\n",
    "                          \"norm\"])\n",
    "f2.fit()\n",
    "f2.summary()"
   ]
  },
  {
   "cell_type": "code",
   "execution_count": 34,
   "id": "c7a73347-e6ee-45c4-afd5-c26cfd4cd16c",
   "metadata": {},
   "outputs": [
    {
     "data": {
      "text/plain": [
       "{'beta': {'a': 0.3382269074013796,\n",
       "  'b': 220.02775080676847,\n",
       "  'loc': 199.99999999999997,\n",
       "  'scale': 6591.184480934503}}"
      ]
     },
     "execution_count": 34,
     "metadata": {},
     "output_type": "execute_result"
    }
   ],
   "source": [
    "f2.get_best(method = 'sumsquare_error')"
   ]
  },
  {
   "cell_type": "code",
   "execution_count": 35,
   "id": "e5ca888f-db00-461f-bc32-5d57440e48d7",
   "metadata": {},
   "outputs": [
    {
     "data": {
      "text/plain": [
       "(0.3382269074013796, 220.02775080676847, 199.99999999999997, 6591.184480934503)"
      ]
     },
     "execution_count": 35,
     "metadata": {},
     "output_type": "execute_result"
    }
   ],
   "source": [
    "f2.fitted_param[\"beta\"]"
   ]
  },
  {
   "cell_type": "markdown",
   "id": "aa7d8722-7834-44a0-9722-b0c724c1e8b8",
   "metadata": {},
   "source": [
    "# Odds calculations"
   ]
  },
  {
   "cell_type": "markdown",
   "id": "7e69125f-1368-4c0f-a93f-965575f2a574",
   "metadata": {},
   "source": [
    "# Trips better than no Trips?"
   ]
  },
  {
   "cell_type": "markdown",
   "id": "0cb81ba4",
   "metadata": {},
   "source": [
    "# Test Code (ignore)"
   ]
  },
  {
   "cell_type": "code",
   "execution_count": 25,
   "id": "02c1f4a3",
   "metadata": {},
   "outputs": [],
   "source": [
    "my_hand = board[0:2]\n",
    "dealer_hand = board[2:4]\n",
    "flop = board[4:7]\n",
    "river = board[7:9]\n",
    "\n",
    "full_board = board[4:9]"
   ]
  },
  {
   "cell_type": "code",
   "execution_count": 26,
   "id": "8f7a08f5",
   "metadata": {},
   "outputs": [
    {
     "name": "stdout",
     "output_type": "stream",
     "text": [
      "200\n",
      "8\n"
     ]
    }
   ],
   "source": [
    "tst_hand = [\n",
    "    (Rank.TEN, Suit.SPADE),#\n",
    "    (Rank.JACK, Suit.SPADE),#\n",
    "    (Rank.THREE, Suit.DIAMOND),\n",
    "    (Rank.FOUR, Suit.HEART),\n",
    "    (Rank.FOUR, Suit.SPADE),#\n",
    "    (Rank.QUEEN, Suit.SPADE),#\n",
    "    (Rank.KING, Suit.SPADE),#\n",
    "    (Rank.ACE, Suit.SPADE),#\n",
    "    (Rank.THREE, Suit.DIAMOND)#\n",
    "]\n",
    "my_hand = tst_hand[0:2]\n",
    "dealer_hand = tst_hand[2:4]\n",
    "flop = tst_hand[4:7]\n",
    "river = tst_hand[7:9]\n",
    "\n",
    "full_hand = HandParser(my_hand + flop + river).handenum\n",
    "\n",
    "print(get_trips_win(my_hand, flop, river, TRIPS))\n",
    "\n",
    "print(full_hand)"
   ]
  },
  {
   "cell_type": "code",
   "execution_count": 27,
   "id": "89a6180e",
   "metadata": {},
   "outputs": [
    {
     "data": {
      "text/plain": [
       "'TEN'"
      ]
     },
     "execution_count": 27,
     "metadata": {},
     "output_type": "execute_result"
    }
   ],
   "source": [
    "my_hand[0][0].name"
   ]
  },
  {
   "cell_type": "code",
   "execution_count": 28,
   "id": "d0cfcdca",
   "metadata": {},
   "outputs": [
    {
     "data": {
      "text/plain": [
       "[(<Rank.TEN: 8>, <Suit.SPADE: 0>),\n",
       " (<Rank.JACK: 9>, <Suit.SPADE: 0>),\n",
       " (<Rank.FOUR: 2>, <Suit.SPADE: 0>),\n",
       " (<Rank.QUEEN: 10>, <Suit.SPADE: 0>),\n",
       " (<Rank.KING: 11>, <Suit.SPADE: 0>)]"
      ]
     },
     "execution_count": 28,
     "metadata": {},
     "output_type": "execute_result"
    }
   ],
   "source": [
    "my_hand\n",
    "HandParser(my_hand + flop).handenum\n",
    "my_hand + flop"
   ]
  },
  {
   "cell_type": "code",
   "execution_count": 29,
   "id": "e8918b79",
   "metadata": {},
   "outputs": [
    {
     "ename": "TypeError",
     "evalue": "play_game_n_rounds() takes 6 positional arguments but 10 were given",
     "output_type": "error",
     "traceback": [
      "\u001b[1;31m---------------------------------------------------------------------------\u001b[0m",
      "\u001b[1;31mTypeError\u001b[0m                                 Traceback (most recent call last)",
      "Cell \u001b[1;32mIn[29], line 3\u001b[0m\n\u001b[0;32m      1\u001b[0m n \u001b[38;5;241m=\u001b[39m \u001b[38;5;241m1\u001b[39m\n\u001b[0;32m      2\u001b[0m bank_roll\u001b[38;5;241m=\u001b[39m \u001b[38;5;241m200\u001b[39m\n\u001b[1;32m----> 3\u001b[0m plays \u001b[38;5;241m=\u001b[39m play_game_n_rounds(n, bank_roll, deck, ANTE, BLIND, TRIPS, my_hand, dealer_hand, flop, river)\n\u001b[0;32m      4\u001b[0m \u001b[38;5;28mprint\u001b[39m(plays)\n",
      "\u001b[1;31mTypeError\u001b[0m: play_game_n_rounds() takes 6 positional arguments but 10 were given"
     ]
    }
   ],
   "source": [
    "n = 1\n",
    "bank_roll= 200\n",
    "plays = play_game_n_rounds(n, bank_roll, deck, ANTE, BLIND, TRIPS, my_hand, dealer_hand, flop, river)\n",
    "print(plays)"
   ]
  },
  {
   "cell_type": "code",
   "execution_count": null,
   "id": "dfa4e2b1-e70f-43fe-9950-ab93217a8c20",
   "metadata": {},
   "outputs": [],
   "source": []
  },
  {
   "cell_type": "code",
   "execution_count": null,
   "id": "48f04e3a",
   "metadata": {},
   "outputs": [],
   "source": [
    "hand1 = [\n",
    "    (Rank.KING, Suit.SPADE),\n",
    "    (Rank.JACK, Suit.SPADE)\n",
    "]\n",
    "hand1[1][0].value"
   ]
  },
  {
   "cell_type": "code",
   "execution_count": null,
   "id": "0ec3def9",
   "metadata": {},
   "outputs": [],
   "source": [
    "hand1[1][0].value"
   ]
  }
 ],
 "metadata": {
  "kernelspec": {
   "display_name": "Python 3 (ipykernel)",
   "language": "python",
   "name": "python3"
  },
  "language_info": {
   "codemirror_mode": {
    "name": "ipython",
    "version": 3
   },
   "file_extension": ".py",
   "mimetype": "text/x-python",
   "name": "python",
   "nbconvert_exporter": "python",
   "pygments_lexer": "ipython3",
   "version": "3.12.4"
  }
 },
 "nbformat": 4,
 "nbformat_minor": 5
}
