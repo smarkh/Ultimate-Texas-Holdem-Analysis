{
 "cells": [
  {
   "cell_type": "code",
   "execution_count": 1,
   "id": "61ae0299",
   "metadata": {},
   "outputs": [],
   "source": [
    "import pandas as pd\n",
    "import numpy as np\n",
    "import random\n",
    "from pokerlib import HandParser\n",
    "from pokerlib.enums import Rank, Suit\n",
    "from matplotlib import pyplot as plt\n",
    "from fitter import Fitter, get_common_distributions, get_distributions"
   ]
  },
  {
   "cell_type": "markdown",
   "id": "43b2564d",
   "metadata": {},
   "source": [
    "https://www.pokernews.com/casino/video-poker/ultimate-texas-holdem.htm\n",
    "\n",
    "https://pypi.org/project/pokerlib/"
   ]
  },
  {
   "cell_type": "code",
   "execution_count": 2,
   "id": "54f5375f",
   "metadata": {},
   "outputs": [],
   "source": [
    "# create deck\n",
    "suits = [\n",
    "    Suit.HEART, \n",
    "    Suit.DIAMOND, \n",
    "    Suit.SPADE, \n",
    "    Suit.CLUB\n",
    "]\n",
    "values = [\n",
    "    Rank.TWO,\n",
    "    Rank.THREE,\n",
    "    Rank.FOUR,\n",
    "    Rank.FIVE,\n",
    "    Rank.SIX,\n",
    "    Rank.SEVEN,\n",
    "    Rank.EIGHT,\n",
    "    Rank.NINE,\n",
    "    Rank.TEN,\n",
    "    Rank.JACK,\n",
    "    Rank.QUEEN,\n",
    "    Rank.KING,\n",
    "    Rank.ACE\n",
    "]\n",
    "\n",
    "deck = [(value, suit) for value in values for suit in suits]"
   ]
  },
  {
   "cell_type": "code",
   "execution_count": 3,
   "id": "1d4c7905",
   "metadata": {},
   "outputs": [
    {
     "data": {
      "text/plain": [
       "52"
      ]
     },
     "execution_count": 3,
     "metadata": {},
     "output_type": "execute_result"
    }
   ],
   "source": [
    "len(deck)"
   ]
  },
  {
   "cell_type": "code",
   "execution_count": 4,
   "id": "fba93158",
   "metadata": {},
   "outputs": [
    {
     "data": {
      "text/plain": [
       "[(<Rank.FIVE: 3>, <Suit.SPADE: 0>),\n",
       " (<Rank.FOUR: 2>, <Suit.HEART: 3>),\n",
       " (<Rank.JACK: 9>, <Suit.SPADE: 0>),\n",
       " (<Rank.SIX: 4>, <Suit.DIAMOND: 2>),\n",
       " (<Rank.SEVEN: 5>, <Suit.SPADE: 0>),\n",
       " (<Rank.KING: 11>, <Suit.SPADE: 0>),\n",
       " (<Rank.EIGHT: 6>, <Suit.DIAMOND: 2>),\n",
       " (<Rank.QUEEN: 10>, <Suit.SPADE: 0>),\n",
       " (<Rank.ACE: 12>, <Suit.SPADE: 0>)]"
      ]
     },
     "execution_count": 4,
     "metadata": {},
     "output_type": "execute_result"
    }
   ],
   "source": [
    "board = random.sample(deck, 9)\n",
    "board"
   ]
  },
  {
   "cell_type": "code",
   "execution_count": 5,
   "id": "903c7c96",
   "metadata": {},
   "outputs": [],
   "source": [
    "# game process\n",
    "ANTE = 5\n",
    "BLIND = ANTE\n",
    "play = None"
   ]
  },
  {
   "cell_type": "code",
   "execution_count": 6,
   "id": "93a83a89",
   "metadata": {},
   "outputs": [],
   "source": [
    "def set_board(deck):\n",
    "    board = random.sample(deck, 9)\n",
    "    \n",
    "    my_hand = board[0:2]\n",
    "    dealer_hand = board[2:4]\n",
    "    flop = board[4:7]\n",
    "    river = board[7:9]\n",
    "    \n",
    "    return(my_hand, dealer_hand, flop, river)\n"
   ]
  },
  {
   "cell_type": "code",
   "execution_count": 7,
   "id": "2c92635f",
   "metadata": {},
   "outputs": [],
   "source": [
    "def get_bet(ANTE, my_hand, flop, river):\n",
    "    play = 0\n",
    "    # Check if there is a hole pair\n",
    "    if HandParser(my_hand).handenum >= 1:\n",
    "        play = ANTE * 4\n",
    "\n",
    "    # check if there is an ace in the personal cards\n",
    "    elif my_hand[0][0].name == 'ACE' or my_hand[0][0].name == 'ACE':\n",
    "        play = ANTE * 4\n",
    "\n",
    "    # check if there is a king 5 or king suited in the personal cards\n",
    "    elif my_hand[0][0].value == 11 or my_hand[0][0].value == 11:       # check if one of cards is a king\n",
    "        if my_hand[0][0].value == 11:                                  # first card is a king\n",
    "            if my_hand[1][0].value >= 3:                               # second card value is greater than or equal to 5\n",
    "                play = ANTE * 4\n",
    "            elif my_hand[0][1].value == my_hand[1][1].value:           # second card is suited with first\n",
    "                play = ANTE * 4\n",
    "\n",
    "        if my_hand[1][0].value == 11:                                  # second card is a king\n",
    "            if my_hand[0][0].value >= 3:                               # second card value is greater than or equal to 5\n",
    "                play = ANTE * 4\n",
    "            elif my_hand[1][1].value == my_hand[0][1].value:           # second card is suited with first\n",
    "                play = ANTE * 4\n",
    "\n",
    "    # check if there is a queen 8 or queen suited 8 in the personal cards\n",
    "    elif my_hand[0][0].value == 10 or my_hand[0][0].value == 10:       \n",
    "        if my_hand[0][0].value == 10:                                  \n",
    "            if my_hand[1][0].value >= 6:                               \n",
    "                play = ANTE * 4\n",
    "            elif my_hand[0][1].value == my_hand[1][1].value and my_hand[1][0].value >= 4:           \n",
    "                play = ANTE * 4\n",
    "\n",
    "        if my_hand[1][0].value == 10:                                  \n",
    "            if my_hand[0][0].value >= 6:                               \n",
    "                play = ANTE * 4\n",
    "            elif my_hand[1][1].value == my_hand[0][1].value and my_hand[1][0].value >= 4:          \n",
    "                play = ANTE * 4\n",
    "\n",
    "    # check if there is a jack 10 or jack 8 suited in the personal cards\n",
    "    elif my_hand[0][0].value == 9 or my_hand[0][0].value == 9:       \n",
    "        if my_hand[0][0].value == 9:                                  \n",
    "            if my_hand[1][0].value >= 8:                               \n",
    "                play = ANTE * 4\n",
    "            elif my_hand[0][1].value == my_hand[1][1].value and my_hand[1][0].value >= 6:           \n",
    "                play = ANTE * 4\n",
    "\n",
    "        if my_hand[1][0].value == 9:                                  \n",
    "            if my_hand[0][0].value >= 8:                               \n",
    "                play = ANTE * 4\n",
    "            elif my_hand[1][1].value == my_hand[0][1].value and my_hand[1][0].value >= 6:          \n",
    "                play = ANTE * 4\n",
    "\n",
    "    # check if there is any valuable combination that is not only from the flop\n",
    "    elif HandParser(my_hand + flop).handenum > HandParser(flop).handenum:\n",
    "        play = ANTE * 2\n",
    "        \n",
    "    # check if there is any valuable combination that requires personal cards\n",
    "    elif HandParser(my_hand + flop + river).handenum > HandParser(flop + river).handenum:\n",
    "        play = ANTE\n",
    "\n",
    "    else:\n",
    "        play = 0\n",
    "        \n",
    "    return play"
   ]
  },
  {
   "cell_type": "code",
   "execution_count": 8,
   "id": "d39dbd9d",
   "metadata": {},
   "outputs": [
    {
     "data": {
      "text/plain": [
       "5"
      ]
     },
     "execution_count": 8,
     "metadata": {},
     "output_type": "execute_result"
    }
   ],
   "source": [
    "my_hand, dealer_hand, flop, river = set_board(deck)\n",
    "get_bet(ANTE, my_hand, flop, river)"
   ]
  },
  {
   "cell_type": "code",
   "execution_count": 9,
   "id": "980a4e78",
   "metadata": {},
   "outputs": [],
   "source": [
    "def get_hand_win(my_hand, dealer_hand, flop, river, play, ANTE, full_bet):\n",
    "    my_full = HandParser(my_hand + flop + river).handenum\n",
    "    dealer_full = HandParser(dealer_hand + flop + river).handenum\n",
    "\n",
    "    win = 0\n",
    "    win_flag = False\n",
    "    \n",
    "    if dealer_full > my_full: # dealer wins \n",
    "        win = 0\n",
    "        win_flag = False\n",
    "        \n",
    "    elif my_full > dealer_full and dealer_full > 0: # you win and dealer qualifies\n",
    "        win = (play * 2) + (ANTE * 2)\n",
    "        win_flag = True\n",
    "        \n",
    "    elif my_full > dealer_full and dealer_full == 0: # you win and dealer does not qualify\n",
    "        win = (play * 2) + ANTE\n",
    "        win_flag = True\n",
    "        \n",
    "    elif my_full == dealer_full: # your hand is equal to the dealer\n",
    "        try: \n",
    "            my_kick = list(HandParser(my_hand + flop + river).kickercards)[0][0].value\n",
    "            dealer_kick = list(HandParser(dealer_hand + flop + river).kickercards)[0][0].value\n",
    "            \n",
    "            # look into kicker cards\n",
    "            if my_kick == dealer_kick: # push\n",
    "                win = full_bet\n",
    "                win_flag = False\n",
    "            elif my_kick > dealer_kick and my_full == 0: # win and dealer does not qualify\n",
    "                win = play\n",
    "                win_flag = True\n",
    "            elif my_kick > dealer_kick and my_full > 0: # win and does qualify\n",
    "                win = full_bet\n",
    "                win_flag = True\n",
    "        except:\n",
    "            win = full_bet\n",
    "            win_flag = False\n",
    "    else:\n",
    "        win = 0\n",
    "        win_flag = False\n",
    "            \n",
    "    return win"
   ]
  },
  {
   "cell_type": "code",
   "execution_count": 10,
   "id": "a9415adc",
   "metadata": {},
   "outputs": [],
   "source": [
    "def get_blind_win(my_hand, flop, river, BLIND):\n",
    "    blind_win = 0\n",
    "    my_full = HandParser(my_hand + flop + river).handenum\n",
    "    \n",
    "    if my_full == 4: # straight\n",
    "        blind_win = BLIND\n",
    "    elif my_full == 5: # flush\n",
    "        blind_win = BLIND * 1.5\n",
    "    elif my_full == 6: # full house\n",
    "        blind_win = BLIND * 3\n",
    "    elif my_full == 7: # quads\n",
    "        blind_win = BLIND * 10\n",
    "    elif my_full == 8: # straight flush\n",
    "        blind_win = BLIND * 50\n",
    "    elif my_full == 9: # royal fluxh\n",
    "        blind_win = BLIND * 500\n",
    "    \n",
    "    return blind_win"
   ]
  },
  {
   "cell_type": "code",
   "execution_count": 11,
   "id": "54f8178c",
   "metadata": {},
   "outputs": [],
   "source": [
    "# simulate\n",
    "\n",
    "def play_game_n_rounds(n, bank_roll, deck, ANTE, BLIND, my_hand, dealer_hand, flop, river):\n",
    "    plays = []\n",
    "    tot_win = 0\n",
    "    \n",
    "    for i in range(n): \n",
    "        my_hand, dealer_hand, flop, river = set_board(deck)\n",
    "        play = get_bet(ANTE, my_hand, flop, river)\n",
    "        \n",
    "        # print(f'start br:{bank_roll}')  \n",
    "        # check win\n",
    "        full_bet = play + ANTE + BLIND\n",
    "\n",
    "        if bank_roll < full_bet:\n",
    "            break\n",
    "\n",
    "        bank_roll -= full_bet\n",
    "        start_br = bank_roll\n",
    "        # print(f'bet br:{bank_roll}') \n",
    "\n",
    "        if play > 0:\n",
    "            win = get_hand_win(my_hand, dealer_hand, flop, river, play, ANTE, full_bet)\n",
    "            \n",
    "            if win > 0:\n",
    "                b_win = get_blind_win(my_hand, flop, river, BLIND)\n",
    "                #print(b_win)\n",
    "                win += b_win\n",
    "\n",
    "            tot_win += win\n",
    "            bank_roll += win\n",
    "            # print(f'win {win}')\n",
    "            # print(f'win br:{bank_roll}\\n')\n",
    "            end_br = bank_roll\n",
    "            plays.append([start_br, end_br, full_bet, win])\n",
    "        else:\n",
    "            win = 0\n",
    "            # print(f'win {win}')\n",
    "            # print(f'win br:{bank_roll}\\n') \n",
    "            end_br = bank_roll\n",
    "            plays.append([start_br, end_br, full_bet, win])\n",
    "\n",
    "    return plays"
   ]
  },
  {
   "cell_type": "code",
   "execution_count": 12,
   "id": "9ce7fd39",
   "metadata": {},
   "outputs": [
    {
     "name": "stdout",
     "output_type": "stream",
     "text": [
      "[[185, 205, 15, 20], [195, 195, 10, 0], [185, 185, 10, 0], [175, 175, 10, 0], [165, 165, 10, 0], [145, 165, 20, 20], [150, 165, 15, 15], [135, 185, 30, 50], [155, 200, 30, 45], [190, 190, 10, 0], [180, 180, 10, 0], [150, 150, 30, 0], [120, 120, 30, 0], [90, 127.5, 30, 37.5], [117.5, 117.5, 10, 0], [87.5, 137.5, 30, 50], [127.5, 127.5, 10, 0], [117.5, 117.5, 10, 0], [97.5, 135.0, 20, 37.5], [115.0, 140.0, 20, 25], [120.0, 140.0, 20, 20], [110.0, 110.0, 30, 0], [100.0, 100.0, 10, 0], [85.0, 105.0, 15, 20], [90.0, 112.5, 15, 22.5], [92.5, 122.5, 20, 30], [92.5, 92.5, 30, 0], [72.5, 97.5, 20, 25], [82.5, 102.5, 15, 20], [72.5, 72.5, 30, 0], [57.5, 82.5, 15, 25], [52.5, 52.5, 30, 0], [32.5, 52.5, 20, 20], [37.5, 57.5, 15, 20], [42.5, 67.5, 15, 25], [37.5, 37.5, 30, 0], [7.5, 7.5, 30, 0]]\n"
     ]
    }
   ],
   "source": [
    "n = 100\n",
    "bank_roll= 200\n",
    "plays = play_game_n_rounds(n, bank_roll, deck, ANTE, BLIND, my_hand, dealer_hand, flop, river)\n",
    "print(plays)"
   ]
  },
  {
   "cell_type": "code",
   "execution_count": 13,
   "id": "79274156",
   "metadata": {},
   "outputs": [],
   "source": [
    "num_sims = 10000\n",
    "n = 1000\n",
    "bank_roll= 200\n",
    "play_history = []\n",
    "\n",
    "for x in range(num_sims):\n",
    "    play = play_game_n_rounds(n, bank_roll, deck, ANTE, BLIND, my_hand, dealer_hand, flop, river)\n",
    "    play_history.append(play)"
   ]
  },
  {
   "cell_type": "code",
   "execution_count": 14,
   "id": "bd39e256",
   "metadata": {},
   "outputs": [],
   "source": [
    "# Analyze results\n",
    "durations = []\n",
    "\n",
    "for play in play_history:\n",
    "    durations.append(len(play))"
   ]
  },
  {
   "cell_type": "code",
   "execution_count": 15,
   "id": "528381f2",
   "metadata": {},
   "outputs": [
    {
     "data": {
      "image/png": "[encoded data removed]",
      "text/plain": [
       "<Figure size 640x480 with 1 Axes>"
      ]
     },
     "metadata": {},
     "output_type": "display_data"
    },
    {
     "name": "stdout",
     "output_type": "stream",
     "text": [
      "Mean number of hands played before bust 42.8833\n",
      "Median number of hands played before bust 38.0\n"
     ]
    }
   ],
   "source": [
    "plt.hist(durations, bins=20, alpha=0.5)\n",
    "plt.title('Rounds played before going bust')\n",
    "plt.xlabel('Count')\n",
    "plt.ylabel('Rounds')\n",
    "\n",
    "plt.show()\n",
    "\n",
    "print(f'Mean number of hands played before bust {np.mean(durations)}')\n",
    "print(f'Median number of hands played before bust {np.median(durations)}')\n",
    "\n"
   ]
  },
  {
   "cell_type": "code",
   "execution_count": 16,
   "id": "d0272408-e9c0-4d50-bb24-99d442c0f147",
   "metadata": {},
   "outputs": [
    {
     "data": {
      "text/html": [
       "<div>\n",
       "<style scoped>\n",
       "    .dataframe tbody tr th:only-of-type {\n",
       "        vertical-align: middle;\n",
       "    }\n",
       "\n",
       "    .dataframe tbody tr th {\n",
       "        vertical-align: top;\n",
       "    }\n",
       "\n",
       "    .dataframe thead th {\n",
       "        text-align: right;\n",
       "    }\n",
       "</style>\n",
       "<table border=\"1\" class=\"dataframe\">\n",
       "  <thead>\n",
       "    <tr style=\"text-align: right;\">\n",
       "      <th></th>\n",
       "      <th>sumsquare_error</th>\n",
       "      <th>aic</th>\n",
       "      <th>bic</th>\n",
       "      <th>kl_div</th>\n",
       "      <th>ks_statistic</th>\n",
       "      <th>ks_pvalue</th>\n",
       "    </tr>\n",
       "  </thead>\n",
       "  <tbody>\n",
       "    <tr>\n",
       "      <th>lognorm</th>\n",
       "      <td>0.000353</td>\n",
       "      <td>1669.117384</td>\n",
       "      <td>1690.748405</td>\n",
       "      <td>inf</td>\n",
       "      <td>0.014914</td>\n",
       "      <td>2.315691e-02</td>\n",
       "    </tr>\n",
       "    <tr>\n",
       "      <th>gamma</th>\n",
       "      <td>0.000401</td>\n",
       "      <td>1922.378583</td>\n",
       "      <td>1944.009604</td>\n",
       "      <td>inf</td>\n",
       "      <td>0.035455</td>\n",
       "      <td>2.341340e-11</td>\n",
       "    </tr>\n",
       "    <tr>\n",
       "      <th>burr</th>\n",
       "      <td>0.000403</td>\n",
       "      <td>1536.490273</td>\n",
       "      <td>1565.331635</td>\n",
       "      <td>inf</td>\n",
       "      <td>0.026390</td>\n",
       "      <td>1.751231e-06</td>\n",
       "    </tr>\n",
       "    <tr>\n",
       "      <th>beta</th>\n",
       "      <td>0.000436</td>\n",
       "      <td>2227.562552</td>\n",
       "      <td>2256.403913</td>\n",
       "      <td>inf</td>\n",
       "      <td>0.047334</td>\n",
       "      <td>6.566509e-20</td>\n",
       "    </tr>\n",
       "    <tr>\n",
       "      <th>norm</th>\n",
       "      <td>0.001242</td>\n",
       "      <td>3601.430731</td>\n",
       "      <td>3615.851412</td>\n",
       "      <td>inf</td>\n",
       "      <td>0.112738</td>\n",
       "      <td>3.631501e-111</td>\n",
       "    </tr>\n",
       "  </tbody>\n",
       "</table>\n",
       "</div>"
      ],
      "text/plain": [
       "         sumsquare_error          aic          bic  kl_div  ks_statistic  \\\n",
       "lognorm         0.000353  1669.117384  1690.748405     inf      0.014914   \n",
       "gamma           0.000401  1922.378583  1944.009604     inf      0.035455   \n",
       "burr            0.000403  1536.490273  1565.331635     inf      0.026390   \n",
       "beta            0.000436  2227.562552  2256.403913     inf      0.047334   \n",
       "norm            0.001242  3601.430731  3615.851412     inf      0.112738   \n",
       "\n",
       "             ks_pvalue  \n",
       "lognorm   2.315691e-02  \n",
       "gamma     2.341340e-11  \n",
       "burr      1.751231e-06  \n",
       "beta      6.566509e-20  \n",
       "norm     3.631501e-111  "
      ]
     },
     "execution_count": 16,
     "metadata": {},
     "output_type": "execute_result"
    },
    {
     "data": {
      "image/png": "[encoded data removed]",
      "text/plain": [
       "<Figure size 640x480 with 1 Axes>"
      ]
     },
     "metadata": {},
     "output_type": "display_data"
    }
   ],
   "source": [
    "f = Fitter(durations,\n",
    "           distributions=['gamma',\n",
    "                          'lognorm',\n",
    "                          \"beta\",\n",
    "                          \"burr\",\n",
    "                          \"norm\"])\n",
    "f.fit()\n",
    "f.summary()"
   ]
  },
  {
   "cell_type": "code",
   "execution_count": 17,
   "id": "aec1998a-77c8-4f07-bee0-f0ea479bee7b",
   "metadata": {},
   "outputs": [
    {
     "data": {
      "text/plain": [
       "{'lognorm': {'s': 0.5164669922106285,\n",
       "  'loc': 3.967282374007311,\n",
       "  'scale': 34.05432900797219}}"
      ]
     },
     "execution_count": 17,
     "metadata": {},
     "output_type": "execute_result"
    }
   ],
   "source": [
    "f.get_best(method = 'sumsquare_error')"
   ]
  },
  {
   "cell_type": "code",
   "execution_count": 27,
   "id": "58318882-219e-4bba-8aa9-924314b9de14",
   "metadata": {},
   "outputs": [
    {
     "data": {
      "text/plain": [
       "(0.5164669922106285, 3.967282374007311, 34.05432900797219)"
      ]
     },
     "execution_count": 27,
     "metadata": {},
     "output_type": "execute_result"
    }
   ],
   "source": [
    "f.fitted_param[\"lognorm\"]"
   ]
  },
  {
   "cell_type": "code",
   "execution_count": 18,
   "id": "5818fadd",
   "metadata": {},
   "outputs": [],
   "source": [
    "def max_value(inputlist):\n",
    "    return max([sublist[1] for sublist in inputlist])\n",
    "\n",
    "peaks = []\n",
    "\n",
    "for play in play_history:\n",
    "    peak = max_value(play)\n",
    "    \n",
    "    peaks.append(peak)"
   ]
  },
  {
   "cell_type": "code",
   "execution_count": 19,
   "id": "e487c06e",
   "metadata": {},
   "outputs": [
    {
     "data": {
      "image/png": "[encoded data removed]",
      "text/plain": [
       "<Figure size 640x480 with 1 Axes>"
      ]
     },
     "metadata": {},
     "output_type": "display_data"
    },
    {
     "name": "stdout",
     "output_type": "stream",
     "text": [
      "Mean peak bank roll 213.087\n",
      "Median peak bank roll 205.0\n"
     ]
    }
   ],
   "source": [
    "plt.hist(peaks, bins=20, alpha=0.5)\n",
    "plt.title('Peak Bank Roll during play')\n",
    "plt.xlabel('Count')\n",
    "plt.ylabel('Max Bank Roll')\n",
    "\n",
    "plt.show()\n",
    "\n",
    "print(f'Mean peak bank roll {np.mean(peaks)}')\n",
    "print(f'Median peak bank roll {np.median(peaks)}')\n"
   ]
  },
  {
   "cell_type": "code",
   "execution_count": 20,
   "id": "63b7036b-2433-43ff-a7cd-72a4c917e407",
   "metadata": {},
   "outputs": [
    {
     "data": {
      "text/html": [
       "<div>\n",
       "<style scoped>\n",
       "    .dataframe tbody tr th:only-of-type {\n",
       "        vertical-align: middle;\n",
       "    }\n",
       "\n",
       "    .dataframe tbody tr th {\n",
       "        vertical-align: top;\n",
       "    }\n",
       "\n",
       "    .dataframe thead th {\n",
       "        text-align: right;\n",
       "    }\n",
       "</style>\n",
       "<table border=\"1\" class=\"dataframe\">\n",
       "  <thead>\n",
       "    <tr style=\"text-align: right;\">\n",
       "      <th></th>\n",
       "      <th>sumsquare_error</th>\n",
       "      <th>aic</th>\n",
       "      <th>bic</th>\n",
       "      <th>kl_div</th>\n",
       "      <th>ks_statistic</th>\n",
       "      <th>ks_pvalue</th>\n",
       "    </tr>\n",
       "  </thead>\n",
       "  <tbody>\n",
       "    <tr>\n",
       "      <th>burr</th>\n",
       "      <td>0.001123</td>\n",
       "      <td>2009.773325</td>\n",
       "      <td>2038.614687</td>\n",
       "      <td>inf</td>\n",
       "      <td>0.110513</td>\n",
       "      <td>7.949193e-107</td>\n",
       "    </tr>\n",
       "    <tr>\n",
       "      <th>lognorm</th>\n",
       "      <td>0.001159</td>\n",
       "      <td>2065.875683</td>\n",
       "      <td>2087.506704</td>\n",
       "      <td>inf</td>\n",
       "      <td>0.124488</td>\n",
       "      <td>1.562113e-135</td>\n",
       "    </tr>\n",
       "    <tr>\n",
       "      <th>norm</th>\n",
       "      <td>0.001672</td>\n",
       "      <td>4823.254575</td>\n",
       "      <td>4837.675256</td>\n",
       "      <td>inf</td>\n",
       "      <td>0.161215</td>\n",
       "      <td>1.537754e-227</td>\n",
       "    </tr>\n",
       "    <tr>\n",
       "      <th>beta</th>\n",
       "      <td>0.002324</td>\n",
       "      <td>inf</td>\n",
       "      <td>inf</td>\n",
       "      <td>inf</td>\n",
       "      <td>0.327063</td>\n",
       "      <td>0.000000e+00</td>\n",
       "    </tr>\n",
       "    <tr>\n",
       "      <th>gamma</th>\n",
       "      <td>0.004074</td>\n",
       "      <td>4780.933887</td>\n",
       "      <td>4802.564908</td>\n",
       "      <td>inf</td>\n",
       "      <td>0.922838</td>\n",
       "      <td>0.000000e+00</td>\n",
       "    </tr>\n",
       "  </tbody>\n",
       "</table>\n",
       "</div>"
      ],
      "text/plain": [
       "         sumsquare_error          aic          bic  kl_div  ks_statistic  \\\n",
       "burr            0.001123  2009.773325  2038.614687     inf      0.110513   \n",
       "lognorm         0.001159  2065.875683  2087.506704     inf      0.124488   \n",
       "norm            0.001672  4823.254575  4837.675256     inf      0.161215   \n",
       "beta            0.002324          inf          inf     inf      0.327063   \n",
       "gamma           0.004074  4780.933887  4802.564908     inf      0.922838   \n",
       "\n",
       "             ks_pvalue  \n",
       "burr     7.949193e-107  \n",
       "lognorm  1.562113e-135  \n",
       "norm     1.537754e-227  \n",
       "beta      0.000000e+00  \n",
       "gamma     0.000000e+00  "
      ]
     },
     "execution_count": 20,
     "metadata": {},
     "output_type": "execute_result"
    },
    {
     "data": {
      "image/png": "[encoded data removed]",
      "text/plain": [
       "<Figure size 640x480 with 1 Axes>"
      ]
     },
     "metadata": {},
     "output_type": "display_data"
    }
   ],
   "source": [
    "f2 = Fitter(peaks,\n",
    "           distributions=['gamma',\n",
    "                          'lognorm',\n",
    "                          \"beta\",\n",
    "                          \"burr\",\n",
    "                          \"norm\"])\n",
    "f2.fit()\n",
    "f2.summary()"
   ]
  },
  {
   "cell_type": "code",
   "execution_count": 21,
   "id": "c7a73347-e6ee-45c4-afd5-c26cfd4cd16c",
   "metadata": {},
   "outputs": [
    {
     "data": {
      "text/plain": [
       "{'burr': {'c': 10.038363899103498,\n",
       "  'd': 40.726499898481336,\n",
       "  'loc': -0.8039303634791835,\n",
       "  'scale': 138.2114194440597}}"
      ]
     },
     "execution_count": 21,
     "metadata": {},
     "output_type": "execute_result"
    }
   ],
   "source": [
    "f2.get_best(method = 'sumsquare_error')"
   ]
  },
  {
   "cell_type": "code",
   "execution_count": 28,
   "id": "e5ca888f-db00-461f-bc32-5d57440e48d7",
   "metadata": {},
   "outputs": [
    {
     "data": {
      "text/plain": [
       "(10.038363899103498,\n",
       " 40.726499898481336,\n",
       " -0.8039303634791835,\n",
       " 138.2114194440597)"
      ]
     },
     "execution_count": 28,
     "metadata": {},
     "output_type": "execute_result"
    }
   ],
   "source": [
    "f2.fitted_param[\"burr\"]"
   ]
  },
  {
   "cell_type": "markdown",
   "id": "0cb81ba4",
   "metadata": {},
   "source": [
    "# Test Code"
   ]
  },
  {
   "cell_type": "code",
   "execution_count": 22,
   "id": "02c1f4a3",
   "metadata": {},
   "outputs": [],
   "source": [
    "my_hand = board[0:2]\n",
    "dealer_hand = board[2:4]\n",
    "flop = board[4:7]\n",
    "river = board[7:9]\n",
    "\n",
    "full_board = board[4:9]"
   ]
  },
  {
   "cell_type": "code",
   "execution_count": 23,
   "id": "8f7a08f5",
   "metadata": {},
   "outputs": [
    {
     "name": "stdout",
     "output_type": "stream",
     "text": [
      "8\n"
     ]
    }
   ],
   "source": [
    "tst_hand = [\n",
    "    (Rank.TEN, Suit.SPADE),#\n",
    "    (Rank.JACK, Suit.SPADE),#\n",
    "    (Rank.THREE, Suit.DIAMOND),\n",
    "    (Rank.FOUR, Suit.HEART),\n",
    "    (Rank.FOUR, Suit.SPADE),#\n",
    "    (Rank.QUEEN, Suit.SPADE),#\n",
    "    (Rank.KING, Suit.SPADE),#\n",
    "    (Rank.ACE, Suit.SPADE),#\n",
    "    (Rank.THREE, Suit.DIAMOND)#\n",
    "]\n",
    "my_hand = tst_hand[0:2]\n",
    "dealer_hand = tst_hand[2:4]\n",
    "flop = tst_hand[4:7]\n",
    "river = tst_hand[7:9]\n",
    "\n",
    "full_hand = HandParser(my_hand + flop + river).handenum\n",
    "\n",
    "print(full_hand)"
   ]
  },
  {
   "cell_type": "code",
   "execution_count": 24,
   "id": "89a6180e",
   "metadata": {},
   "outputs": [
    {
     "data": {
      "text/plain": [
       "'TEN'"
      ]
     },
     "execution_count": 24,
     "metadata": {},
     "output_type": "execute_result"
    }
   ],
   "source": [
    "my_hand[0][0].name"
   ]
  },
  {
   "cell_type": "code",
   "execution_count": 25,
   "id": "d0cfcdca",
   "metadata": {},
   "outputs": [
    {
     "data": {
      "text/plain": [
       "[(<Rank.TEN: 8>, <Suit.SPADE: 0>),\n",
       " (<Rank.JACK: 9>, <Suit.SPADE: 0>),\n",
       " (<Rank.FOUR: 2>, <Suit.SPADE: 0>),\n",
       " (<Rank.QUEEN: 10>, <Suit.SPADE: 0>),\n",
       " (<Rank.KING: 11>, <Suit.SPADE: 0>)]"
      ]
     },
     "execution_count": 25,
     "metadata": {},
     "output_type": "execute_result"
    }
   ],
   "source": [
    "my_hand\n",
    "HandParser(my_hand + flop).handenum\n",
    "my_hand + flop"
   ]
  },
  {
   "cell_type": "code",
   "execution_count": 26,
   "id": "e8918b79",
   "metadata": {},
   "outputs": [
    {
     "ename": "AttributeError",
     "evalue": "'list' object has no attribute 'handenum'",
     "output_type": "error",
     "traceback": [
      "\u001b[1;31m---------------------------------------------------------------------------\u001b[0m",
      "\u001b[1;31mAttributeError\u001b[0m                            Traceback (most recent call last)",
      "Cell \u001b[1;32mIn[26], line 8\u001b[0m\n\u001b[0;32m      5\u001b[0m my_hand \u001b[38;5;241m+\u001b[39m\u001b[38;5;241m=\u001b[39m board \u001b[38;5;66;03m# add the board to hand1\u001b[39;00m\n\u001b[0;32m      6\u001b[0m dealer_hand \u001b[38;5;241m+\u001b[39m\u001b[38;5;241m=\u001b[39m board \u001b[38;5;66;03m# add the board to hand2\u001b[39;00m\n\u001b[1;32m----> 8\u001b[0m \u001b[38;5;28mprint\u001b[39m(my_hand\u001b[38;5;241m.\u001b[39mhandenum) \u001b[38;5;66;03m# Hand.STRAIGHTFLUSH\u001b[39;00m\n\u001b[0;32m      9\u001b[0m \u001b[38;5;28mprint\u001b[39m(dealer_hand\u001b[38;5;241m.\u001b[39mhandenum) \u001b[38;5;66;03m# Hand.STRAIGHTFLUSH\u001b[39;00m\n\u001b[0;32m     10\u001b[0m \u001b[38;5;28mprint\u001b[39m(my_hand \u001b[38;5;241m>\u001b[39m dealer_hand)\n",
      "\u001b[1;31mAttributeError\u001b[0m: 'list' object has no attribute 'handenum'"
     ]
    }
   ],
   "source": [
    "# odds \n",
    "# strategy\n",
    "\n",
    "# add new cards to each hand\n",
    "my_hand += board # add the board to hand1\n",
    "dealer_hand += board # add the board to hand2\n",
    "\n",
    "print(my_hand.handenum) # Hand.STRAIGHTFLUSH\n",
    "print(dealer_hand.handenum) # Hand.STRAIGHTFLUSH\n",
    "print(my_hand > dealer_hand) # True"
   ]
  },
  {
   "cell_type": "code",
   "execution_count": null,
   "id": "48f04e3a",
   "metadata": {},
   "outputs": [],
   "source": [
    "hand1 = [\n",
    "    (Rank.KING, Suit.SPADE),\n",
    "    (Rank.JACK, Suit.SPADE)\n",
    "]\n",
    "hand1[1][0].value"
   ]
  },
  {
   "cell_type": "code",
   "execution_count": null,
   "id": "0ec3def9",
   "metadata": {},
   "outputs": [],
   "source": [
    "hand1[1][0].value"
   ]
  }
 ],
 "metadata": {
  "kernelspec": {
   "display_name": "Python 3 (ipykernel)",
   "language": "python",
   "name": "python3"
  },
  "language_info": {
   "codemirror_mode": {
    "name": "ipython",
    "version": 3
   },
   "file_extension": ".py",
   "mimetype": "text/x-python",
   "name": "python",
   "nbconvert_exporter": "python",
   "pygments_lexer": "ipython3",
   "version": "3.12.4"
  }
 },
 "nbformat": 4,
 "nbformat_minor": 5
}
