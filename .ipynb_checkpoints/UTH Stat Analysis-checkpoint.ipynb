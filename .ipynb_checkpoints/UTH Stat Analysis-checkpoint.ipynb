{
 "cells": [
  {
   "cell_type": "code",
   "execution_count": 1,
   "id": "61ae0299",
   "metadata": {},
   "outputs": [],
   "source": [
    "import pandas as pd\n",
    "import numpy as np\n",
    "import random\n",
    "from pokerlib import HandParser\n",
    "from pokerlib.enums import Rank, Suit\n",
    "from matplotlib import pyplot as plt\n",
    "from fitter import Fitter, get_common_distributions, get_distributions"
   ]
  },
  {
   "cell_type": "markdown",
   "id": "43b2564d",
   "metadata": {},
   "source": [
    "https://www.pokernews.com/casino/video-poker/ultimate-texas-holdem.htm\n",
    "\n",
    "https://pypi.org/project/pokerlib/"
   ]
  },
  {
   "cell_type": "markdown",
   "id": "441aae24-72f4-48da-9dc5-21706e0d4c04",
   "metadata": {},
   "source": [
    "# Setup game structure"
   ]
  },
  {
   "cell_type": "code",
   "execution_count": 2,
   "id": "54f5375f",
   "metadata": {},
   "outputs": [],
   "source": [
    "# create deck\n",
    "suits = [\n",
    "    Suit.HEART, \n",
    "    Suit.DIAMOND, \n",
    "    Suit.SPADE, \n",
    "    Suit.CLUB\n",
    "]\n",
    "values = [\n",
    "    Rank.TWO,\n",
    "    Rank.THREE,\n",
    "    Rank.FOUR,\n",
    "    Rank.FIVE,\n",
    "    Rank.SIX,\n",
    "    Rank.SEVEN,\n",
    "    Rank.EIGHT,\n",
    "    Rank.NINE,\n",
    "    Rank.TEN,\n",
    "    Rank.JACK,\n",
    "    Rank.QUEEN,\n",
    "    Rank.KING,\n",
    "    Rank.ACE\n",
    "]\n",
    "\n",
    "deck = [(value, suit) for value in values for suit in suits]"
   ]
  },
  {
   "cell_type": "code",
   "execution_count": 3,
   "id": "1d4c7905",
   "metadata": {},
   "outputs": [
    {
     "data": {
      "text/plain": [
       "52"
      ]
     },
     "execution_count": 3,
     "metadata": {},
     "output_type": "execute_result"
    }
   ],
   "source": [
    "len(deck)"
   ]
  },
  {
   "cell_type": "code",
   "execution_count": 4,
   "id": "fba93158",
   "metadata": {},
   "outputs": [
    {
     "data": {
      "text/plain": [
       "[(<Rank.EIGHT: 6>, <Suit.CLUB: 1>),\n",
       " (<Rank.KING: 11>, <Suit.HEART: 3>),\n",
       " (<Rank.ACE: 12>, <Suit.HEART: 3>),\n",
       " (<Rank.KING: 11>, <Suit.SPADE: 0>),\n",
       " (<Rank.JACK: 9>, <Suit.SPADE: 0>),\n",
       " (<Rank.NINE: 7>, <Suit.SPADE: 0>),\n",
       " (<Rank.QUEEN: 10>, <Suit.DIAMOND: 2>),\n",
       " (<Rank.EIGHT: 6>, <Suit.SPADE: 0>),\n",
       " (<Rank.ACE: 12>, <Suit.SPADE: 0>)]"
      ]
     },
     "execution_count": 4,
     "metadata": {},
     "output_type": "execute_result"
    }
   ],
   "source": [
    "board = random.sample(deck, 9)\n",
    "board"
   ]
  },
  {
   "cell_type": "code",
   "execution_count": null,
   "id": "903c7c96",
   "metadata": {},
   "outputs": [],
   "source": []
  },
  {
   "cell_type": "code",
   "execution_count": 5,
   "id": "93a83a89",
   "metadata": {},
   "outputs": [],
   "source": [
    "def set_board(deck):\n",
    "    board = random.sample(deck, 9)\n",
    "    \n",
    "    my_hand = board[0:2]\n",
    "    dealer_hand = board[2:4]\n",
    "    flop = board[4:7]\n",
    "    river = board[7:9]\n",
    "    \n",
    "    return(my_hand, dealer_hand, flop, river)\n"
   ]
  },
  {
   "cell_type": "markdown",
   "id": "4c393f3b-0b39-4a14-a6ac-77b669d3af40",
   "metadata": {},
   "source": [
    "# Set Strategy\n",
    "\n",
    "Strategy is copied from this blog post: https://www.pokernews.com/casino/video-poker/ultimate-texas-holdem.htm#best-ultimate-texas"
   ]
  },
  {
   "cell_type": "code",
   "execution_count": 6,
   "id": "2c92635f",
   "metadata": {},
   "outputs": [],
   "source": [
    "def get_bet(ANTE, my_hand, flop, river):\n",
    "    play = 0\n",
    "    # Check if there is a hole pair\n",
    "    if HandParser(my_hand).handenum >= 1:\n",
    "        play = ANTE * 4\n",
    "\n",
    "    # check if there is an ace in the personal cards\n",
    "    elif my_hand[0][0].name == 'ACE' or my_hand[0][0].name == 'ACE':\n",
    "        play = ANTE * 4\n",
    "\n",
    "    # check if there is a king 5 or king suited in the personal cards\n",
    "    elif my_hand[0][0].value == 11 or my_hand[0][0].value == 11:       # check if one of cards is a king\n",
    "        if my_hand[0][0].value == 11:                                  # first card is a king\n",
    "            if my_hand[1][0].value >= 3:                               # second card value is greater than or equal to 5\n",
    "                play = ANTE * 4\n",
    "            elif my_hand[0][1].value == my_hand[1][1].value:           # second card is suited with first\n",
    "                play = ANTE * 4\n",
    "\n",
    "        if my_hand[1][0].value == 11:                                  # second card is a king\n",
    "            if my_hand[0][0].value >= 3:                               # second card value is greater than or equal to 5\n",
    "                play = ANTE * 4\n",
    "            elif my_hand[1][1].value == my_hand[0][1].value:           # second card is suited with first\n",
    "                play = ANTE * 4\n",
    "\n",
    "    # check if there is a queen 8 or queen suited 8 in the personal cards\n",
    "    elif my_hand[0][0].value == 10 or my_hand[0][0].value == 10:       \n",
    "        if my_hand[0][0].value == 10:                                  \n",
    "            if my_hand[1][0].value >= 6:                               \n",
    "                play = ANTE * 4\n",
    "            elif my_hand[0][1].value == my_hand[1][1].value and my_hand[1][0].value >= 4:           \n",
    "                play = ANTE * 4\n",
    "\n",
    "        if my_hand[1][0].value == 10:                                  \n",
    "            if my_hand[0][0].value >= 6:                               \n",
    "                play = ANTE * 4\n",
    "            elif my_hand[1][1].value == my_hand[0][1].value and my_hand[1][0].value >= 4:          \n",
    "                play = ANTE * 4\n",
    "\n",
    "    # check if there is a jack 10 or jack 8 suited in the personal cards\n",
    "    elif my_hand[0][0].value == 9 or my_hand[0][0].value == 9:       \n",
    "        if my_hand[0][0].value == 9:                                  \n",
    "            if my_hand[1][0].value >= 8:                               \n",
    "                play = ANTE * 4\n",
    "            elif my_hand[0][1].value == my_hand[1][1].value and my_hand[1][0].value >= 6:           \n",
    "                play = ANTE * 4\n",
    "\n",
    "        if my_hand[1][0].value == 9:                                  \n",
    "            if my_hand[0][0].value >= 8:                               \n",
    "                play = ANTE * 4\n",
    "            elif my_hand[1][1].value == my_hand[0][1].value and my_hand[1][0].value >= 6:          \n",
    "                play = ANTE * 4\n",
    "\n",
    "    # check if there is any valuable combination that is not only from the flop\n",
    "    elif HandParser(my_hand + flop).handenum > HandParser(flop).handenum:\n",
    "        play = ANTE * 2\n",
    "        \n",
    "    # check if there is any valuable combination that requires personal cards\n",
    "    elif HandParser(my_hand + flop + river).handenum > HandParser(flop + river).handenum:\n",
    "        play = ANTE\n",
    "\n",
    "    else:\n",
    "        play = 0\n",
    "        \n",
    "    return play"
   ]
  },
  {
   "cell_type": "markdown",
   "id": "3d388ac4-cc01-4b88-bf87-2e380060f36d",
   "metadata": {},
   "source": [
    "# Create win calculations based on card drawings\n",
    "\n",
    "Types of wins:\n",
    "- Play win: when your hand beats dealer hand\n",
    "- Ante win: when your hand beats dealer hand and dealer has at least a pair\n",
    "- Blind win: when your had beats the dealer, and is a straight or better\n",
    "- Trips win: when you have a hand that is three of a kind or better, regardless of dealer hand"
   ]
  },
  {
   "cell_type": "code",
   "execution_count": 7,
   "id": "980a4e78",
   "metadata": {},
   "outputs": [],
   "source": [
    "def get_hand_win(my_hand, dealer_hand, flop, river, play, ANTE, full_bet):\n",
    "    my_full = HandParser(my_hand + flop + river).handenum\n",
    "    dealer_full = HandParser(dealer_hand + flop + river).handenum\n",
    "\n",
    "    win = 0\n",
    "    win_flag = False\n",
    "    \n",
    "    if dealer_full > my_full: # dealer wins \n",
    "        win = 0\n",
    "        win_flag = False\n",
    "        \n",
    "    elif my_full > dealer_full and dealer_full > 0: # you win and dealer qualifies\n",
    "        win = (play * 2) + (ANTE * 2)\n",
    "        win_flag = True\n",
    "        \n",
    "    elif my_full > dealer_full and dealer_full == 0: # you win and dealer does not qualify\n",
    "        win = (play * 2) + ANTE\n",
    "        win_flag = True\n",
    "        \n",
    "    elif my_full == dealer_full: # your hand is equal to the dealer\n",
    "        try: \n",
    "            my_kick = list(HandParser(my_hand + flop + river).kickercards)[0][0].value\n",
    "            dealer_kick = list(HandParser(dealer_hand + flop + river).kickercards)[0][0].value\n",
    "            \n",
    "            # look into kicker cards\n",
    "            if my_kick == dealer_kick: # push\n",
    "                win = full_bet\n",
    "                win_flag = False\n",
    "            elif my_kick > dealer_kick and my_full == 0: # win and dealer does not qualify\n",
    "                win = play\n",
    "                win_flag = True\n",
    "            elif my_kick > dealer_kick and my_full > 0: # win and does qualify\n",
    "                win = full_bet\n",
    "                win_flag = True\n",
    "        except:\n",
    "            win = full_bet\n",
    "            win_flag = False\n",
    "    else:\n",
    "        win = 0\n",
    "        win_flag = False\n",
    "            \n",
    "    return win"
   ]
  },
  {
   "cell_type": "code",
   "execution_count": 8,
   "id": "a9415adc",
   "metadata": {},
   "outputs": [],
   "source": [
    "def get_blind_win(my_hand, flop, river, BLIND):\n",
    "    blind_win = 0\n",
    "    my_full = HandParser(my_hand + flop + river).handenum\n",
    "    \n",
    "    if my_full == 4: # straight\n",
    "        blind_win = BLIND\n",
    "    elif my_full == 5: # flush\n",
    "        blind_win = BLIND * 1.5\n",
    "    elif my_full == 6: # full house\n",
    "        blind_win = BLIND * 3\n",
    "    elif my_full == 7: # quads\n",
    "        blind_win = BLIND * 10\n",
    "    elif my_full == 8: # straight flush\n",
    "        blind_win = BLIND * 50\n",
    "    elif my_full == 9: # royal fluxh\n",
    "        blind_win = BLIND * 500\n",
    "    \n",
    "    return blind_win"
   ]
  },
  {
   "cell_type": "code",
   "execution_count": 9,
   "id": "6e10f3b7-78fa-4931-80c8-79feb197c5b0",
   "metadata": {},
   "outputs": [],
   "source": [
    "def get_trips_win(my_hand, flop, river, TRIPS):\n",
    "    trips_win = 0\n",
    "    my_full = HandParser(my_hand + flop + river).handenum\n",
    "    \n",
    "    if my_full == 3: # three of a kind\n",
    "        trips_win = TRIPS * 3\n",
    "    elif my_full == 4: # straight\n",
    "        trips_win = TRIPS * 4\n",
    "    elif my_full == 5: # flush\n",
    "        trips_win = TRIPS * 7\n",
    "    elif my_full == 6: # full house\n",
    "        trips_win = TRIPS * 8\n",
    "    elif my_full == 7: # quads\n",
    "        trips_win = TRIPS * 30\n",
    "    elif my_full == 8: # straight flush\n",
    "        trips_win = TRIPS * 40\n",
    "    elif my_full == 9: # royal fluxh\n",
    "        trips_win = TRIPS * 50\n",
    "\n",
    "    return trips_win\n",
    "             "
   ]
  },
  {
   "cell_type": "markdown",
   "id": "c524e678-c5c9-4f34-8e4c-94d92dff0add",
   "metadata": {},
   "source": [
    "# Play rounds"
   ]
  },
  {
   "cell_type": "code",
   "execution_count": 10,
   "id": "54f8178c",
   "metadata": {},
   "outputs": [],
   "source": [
    "def play_game_n_rounds(n, bank_roll, deck, ANTE, BLIND, TRIPS):\n",
    "    plays = []\n",
    "    tot_win = 0\n",
    "    \n",
    "    for i in range(n): \n",
    "        my_hand, dealer_hand, flop, river = set_board(deck)\n",
    "        play = get_bet(ANTE, my_hand, flop, river)\n",
    "        \n",
    "        # check win\n",
    "        full_bet = play + ANTE + BLIND + TRIPS\n",
    "\n",
    "        if bank_roll < full_bet:\n",
    "            break\n",
    "\n",
    "        start_br = bank_roll\n",
    "        bank_roll -= full_bet\n",
    "        after_bet_br = bank_roll\n",
    "\n",
    "        if play > 0:\n",
    "            win = get_hand_win(my_hand, dealer_hand, flop, river, play, ANTE, full_bet)\n",
    "            \n",
    "            if win > 0:\n",
    "                b_win = get_blind_win(my_hand, flop, river, BLIND)\n",
    "                win += b_win\n",
    "    \n",
    "            trips_win = get_trips_win(my_hand, flop, river, TRIPS)\n",
    "            \n",
    "            tot_win += win\n",
    "            tot_win += trips_win\n",
    "            bank_roll += win\n",
    "            bank_roll += trips_win\n",
    "            end_br = bank_roll\n",
    "            plays.append([start_br, after_bet_br, end_br, full_bet, tot_win])\n",
    "        else:\n",
    "            win = 0\n",
    "            trips_win = get_trips_win(my_hand, flop, river, TRIPS)\n",
    "            tot_win = win + trips_win\n",
    "            end_br = bank_roll + trips_win\n",
    "            plays.append([start_br, after_bet_br, end_br, full_bet, tot_win])\n",
    "\n",
    "    return plays"
   ]
  },
  {
   "cell_type": "markdown",
   "id": "bdbbcae7-e0e3-41ad-b790-b804b57ebd3a",
   "metadata": {},
   "source": [
    "# Simulate num_sims number of games\n",
    "\n",
    "In this simulation each game will be played until there is no more money in the bankroll, or played n number of rounds"
   ]
  },
  {
   "cell_type": "code",
   "execution_count": 29,
   "id": "9ce7fd39",
   "metadata": {},
   "outputs": [
    {
     "name": "stdout",
     "output_type": "stream",
     "text": [
      "[[200, 165, 165, 35, 0], [165, 150, 150, 15, 0], [150, 135, 135, 15, 0], [135, 110, 110, 25, 0], [110, 95, 95, 15, 0], [95, 80, 80, 15, 0], [80, 60, 60, 20, 0], [60, 40, 75, 20, 35], [75, 60, 60, 15, 0], [60, 45, 45, 15, 0], [45, 20, 65, 25, 45], [65, 30, 65, 35, 80], [65, 30, 30, 35, 80], [30, 15, 15, 15, 0], [15, 0, 0, 15, 0]]\n"
     ]
    }
   ],
   "source": [
    "# Set bets for each game\n",
    "ANTE = 5\n",
    "BLIND = ANTE\n",
    "play = None\n",
    "TRIPS = 5\n",
    "n = 100\n",
    "bank_roll= 200\n",
    "\n",
    "# play one game win max n rounds\n",
    "plays = play_game_n_rounds(n, bank_roll, deck, ANTE, BLIND, TRIPS)\n",
    "print(plays) # [start_br, after_bet_br, end_br, full_bet, tot_win]"
   ]
  },
  {
   "cell_type": "code",
   "execution_count": 12,
   "id": "6634e6c8-f887-41f1-a8a8-acf537e49bd2",
   "metadata": {},
   "outputs": [
    {
     "data": {
      "text/plain": [
       "10"
      ]
     },
     "execution_count": 12,
     "metadata": {},
     "output_type": "execute_result"
    }
   ],
   "source": [
    "# check getting the bet for a round\n",
    "my_hand, dealer_hand, flop, river = set_board(deck)\n",
    "get_bet(ANTE, my_hand, flop, river)"
   ]
  },
  {
   "cell_type": "code",
   "execution_count": 13,
   "id": "79274156",
   "metadata": {},
   "outputs": [],
   "source": [
    "num_sims = 10000\n",
    "n = 1000\n",
    "bank_roll= 200\n",
    "play_history = []\n",
    "\n",
    "for x in range(num_sims):\n",
    "    play = play_game_n_rounds(n, bank_roll, deck, ANTE, BLIND, TRIPS)\n",
    "    play_history.append(play)"
   ]
  },
  {
   "cell_type": "markdown",
   "id": "c4817923-921f-47c5-a49e-82fd8f373768",
   "metadata": {},
   "source": [
    "# Perform analysis on results\n",
    "\n",
    "Metrics:\n",
    "- number of rounds played before bust\n",
    "- maximum bankroll during playtime\n",
    "- ending bankroll (second simulation)\n",
    "\n",
    "This analysis will include fitting the best distribution all of the metrics above.\n",
    "It will also include code to calculate odds of reaching a value for each of above metrics."
   ]
  },
  {
   "cell_type": "code",
   "execution_count": 14,
   "id": "bd39e256",
   "metadata": {},
   "outputs": [],
   "source": [
    "# Analyze results\n",
    "durations = []\n",
    "\n",
    "for play in play_history:\n",
    "    durations.append(len(play))"
   ]
  },
  {
   "cell_type": "code",
   "execution_count": 30,
   "id": "528381f2",
   "metadata": {},
   "outputs": [
    {
     "data": {
      "image/png": "[encoded data removed]",
      "text/plain": [
       "<Figure size 640x480 with 1 Axes>"
      ]
     },
     "metadata": {},
     "output_type": "display_data"
    },
    {
     "name": "stdout",
     "output_type": "stream",
     "text": [
      "Mean number of hands played before bust 36.1048\n",
      "Median number of hands played before bust 28.0\n"
     ]
    }
   ],
   "source": [
    "plt.hist(durations, bins=30, alpha=0.5)\n",
    "plt.title('Rounds played before going bust')\n",
    "plt.xlabel('Rounds')\n",
    "plt.ylabel('Count')\n",
    "\n",
    "plt.show()\n",
    "\n",
    "print(f'Mean number of hands played before bust {np.mean(durations)}')\n",
    "print(f'Median number of hands played before bust {np.median(durations)}')\n",
    "\n"
   ]
  },
  {
   "cell_type": "code",
   "execution_count": 16,
   "id": "d0272408-e9c0-4d50-bb24-99d442c0f147",
   "metadata": {},
   "outputs": [
    {
     "data": {
      "text/html": [
       "<div>\n",
       "<style scoped>\n",
       "    .dataframe tbody tr th:only-of-type {\n",
       "        vertical-align: middle;\n",
       "    }\n",
       "\n",
       "    .dataframe tbody tr th {\n",
       "        vertical-align: top;\n",
       "    }\n",
       "\n",
       "    .dataframe thead th {\n",
       "        text-align: right;\n",
       "    }\n",
       "</style>\n",
       "<table border=\"1\" class=\"dataframe\">\n",
       "  <thead>\n",
       "    <tr style=\"text-align: right;\">\n",
       "      <th></th>\n",
       "      <th>sumsquare_error</th>\n",
       "      <th>aic</th>\n",
       "      <th>bic</th>\n",
       "      <th>kl_div</th>\n",
       "      <th>ks_statistic</th>\n",
       "      <th>ks_pvalue</th>\n",
       "    </tr>\n",
       "  </thead>\n",
       "  <tbody>\n",
       "    <tr>\n",
       "      <th>burr</th>\n",
       "      <td>0.000073</td>\n",
       "      <td>1783.233458</td>\n",
       "      <td>1812.074820</td>\n",
       "      <td>inf</td>\n",
       "      <td>0.028053</td>\n",
       "      <td>2.859500e-07</td>\n",
       "    </tr>\n",
       "    <tr>\n",
       "      <th>lognorm</th>\n",
       "      <td>0.000082</td>\n",
       "      <td>1985.215838</td>\n",
       "      <td>2006.846859</td>\n",
       "      <td>inf</td>\n",
       "      <td>0.022692</td>\n",
       "      <td>6.629184e-05</td>\n",
       "    </tr>\n",
       "    <tr>\n",
       "      <th>gamma</th>\n",
       "      <td>0.000285</td>\n",
       "      <td>2799.557198</td>\n",
       "      <td>2821.188219</td>\n",
       "      <td>inf</td>\n",
       "      <td>0.072503</td>\n",
       "      <td>3.705663e-46</td>\n",
       "    </tr>\n",
       "    <tr>\n",
       "      <th>beta</th>\n",
       "      <td>0.000286</td>\n",
       "      <td>2800.123530</td>\n",
       "      <td>2828.964891</td>\n",
       "      <td>inf</td>\n",
       "      <td>0.072532</td>\n",
       "      <td>3.403888e-46</td>\n",
       "    </tr>\n",
       "    <tr>\n",
       "      <th>norm</th>\n",
       "      <td>0.001352</td>\n",
       "      <td>7617.220849</td>\n",
       "      <td>7631.641530</td>\n",
       "      <td>inf</td>\n",
       "      <td>0.160703</td>\n",
       "      <td>4.338203e-226</td>\n",
       "    </tr>\n",
       "  </tbody>\n",
       "</table>\n",
       "</div>"
      ],
      "text/plain": [
       "         sumsquare_error          aic          bic  kl_div  ks_statistic  \\\n",
       "burr            0.000073  1783.233458  1812.074820     inf      0.028053   \n",
       "lognorm         0.000082  1985.215838  2006.846859     inf      0.022692   \n",
       "gamma           0.000285  2799.557198  2821.188219     inf      0.072503   \n",
       "beta            0.000286  2800.123530  2828.964891     inf      0.072532   \n",
       "norm            0.001352  7617.220849  7631.641530     inf      0.160703   \n",
       "\n",
       "             ks_pvalue  \n",
       "burr      2.859500e-07  \n",
       "lognorm   6.629184e-05  \n",
       "gamma     3.705663e-46  \n",
       "beta      3.403888e-46  \n",
       "norm     4.338203e-226  "
      ]
     },
     "execution_count": 16,
     "metadata": {},
     "output_type": "execute_result"
    },
    {
     "data": {
      "image/png": "[encoded data removed]",
      "text/plain": [
       "<Figure size 640x480 with 1 Axes>"
      ]
     },
     "metadata": {},
     "output_type": "display_data"
    }
   ],
   "source": [
    "f = Fitter(durations,\n",
    "           distributions=['gamma',\n",
    "                          'lognorm',\n",
    "                          \"beta\",\n",
    "                          \"burr\",\n",
    "                          \"norm\"])\n",
    "f.fit()\n",
    "f.summary()"
   ]
  },
  {
   "cell_type": "code",
   "execution_count": 17,
   "id": "aec1998a-77c8-4f07-bee0-f0ea479bee7b",
   "metadata": {},
   "outputs": [
    {
     "data": {
      "text/plain": [
       "{'burr': {'c': 2.257215482136236,\n",
       "  'd': 4.237034110764107,\n",
       "  'loc': -0.06854465866255824,\n",
       "  'scale': 12.975776001048935}}"
      ]
     },
     "execution_count": 17,
     "metadata": {},
     "output_type": "execute_result"
    }
   ],
   "source": [
    "f.get_best(method = 'sumsquare_error')"
   ]
  },
  {
   "cell_type": "code",
   "execution_count": 18,
   "id": "58318882-219e-4bba-8aa9-924314b9de14",
   "metadata": {},
   "outputs": [
    {
     "data": {
      "text/plain": [
       "(0.7443980181263247, 5.606405570776013, 23.004461865047972)"
      ]
     },
     "execution_count": 18,
     "metadata": {},
     "output_type": "execute_result"
    }
   ],
   "source": [
    "f.fitted_param[\"lognorm\"]"
   ]
  },
  {
   "cell_type": "code",
   "execution_count": 19,
   "id": "5818fadd",
   "metadata": {},
   "outputs": [],
   "source": [
    "def max_value(inputlist):\n",
    "    return max([sublist[0] for sublist in inputlist])\n",
    "\n",
    "peaks = []\n",
    "\n",
    "for play in play_history:\n",
    "    peak = max_value(play)\n",
    "    \n",
    "    peaks.append(peak)"
   ]
  },
  {
   "cell_type": "code",
   "execution_count": 20,
   "id": "e487c06e",
   "metadata": {},
   "outputs": [
    {
     "data": {
      "image/png": "[encoded data removed]",
      "text/plain": [
       "<Figure size 640x480 with 1 Axes>"
      ]
     },
     "metadata": {},
     "output_type": "display_data"
    },
    {
     "name": "stdout",
     "output_type": "stream",
     "text": [
      "Mean peak bank roll 239.3825\n",
      "Median peak bank roll 210.0\n"
     ]
    }
   ],
   "source": [
    "plt.hist(peaks, bins=30, alpha=0.5)\n",
    "plt.title('Peak Bank Roll during play')\n",
    "plt.xlabel('Count')\n",
    "plt.ylabel('Max Bank Roll')\n",
    "\n",
    "plt.show()\n",
    "\n",
    "print(f'Mean peak bank roll {np.mean(peaks)}')\n",
    "print(f'Median peak bank roll {np.median(peaks)}')\n"
   ]
  },
  {
   "cell_type": "code",
   "execution_count": 21,
   "id": "63b7036b-2433-43ff-a7cd-72a4c917e407",
   "metadata": {},
   "outputs": [
    {
     "data": {
      "text/html": [
       "<div>\n",
       "<style scoped>\n",
       "    .dataframe tbody tr th:only-of-type {\n",
       "        vertical-align: middle;\n",
       "    }\n",
       "\n",
       "    .dataframe tbody tr th {\n",
       "        vertical-align: top;\n",
       "    }\n",
       "\n",
       "    .dataframe thead th {\n",
       "        text-align: right;\n",
       "    }\n",
       "</style>\n",
       "<table border=\"1\" class=\"dataframe\">\n",
       "  <thead>\n",
       "    <tr style=\"text-align: right;\">\n",
       "      <th></th>\n",
       "      <th>sumsquare_error</th>\n",
       "      <th>aic</th>\n",
       "      <th>bic</th>\n",
       "      <th>kl_div</th>\n",
       "      <th>ks_statistic</th>\n",
       "      <th>ks_pvalue</th>\n",
       "    </tr>\n",
       "  </thead>\n",
       "  <tbody>\n",
       "    <tr>\n",
       "      <th>beta</th>\n",
       "      <td>0.001233</td>\n",
       "      <td>5053.882758</td>\n",
       "      <td>5082.724119</td>\n",
       "      <td>inf</td>\n",
       "      <td>0.425948</td>\n",
       "      <td>0.0</td>\n",
       "    </tr>\n",
       "    <tr>\n",
       "      <th>burr</th>\n",
       "      <td>0.002058</td>\n",
       "      <td>2442.892122</td>\n",
       "      <td>2471.733484</td>\n",
       "      <td>inf</td>\n",
       "      <td>0.241871</td>\n",
       "      <td>0.0</td>\n",
       "    </tr>\n",
       "    <tr>\n",
       "      <th>norm</th>\n",
       "      <td>0.002818</td>\n",
       "      <td>5012.717482</td>\n",
       "      <td>5027.138163</td>\n",
       "      <td>inf</td>\n",
       "      <td>0.287426</td>\n",
       "      <td>0.0</td>\n",
       "    </tr>\n",
       "    <tr>\n",
       "      <th>gamma</th>\n",
       "      <td>0.002882</td>\n",
       "      <td>48296.621547</td>\n",
       "      <td>48318.252568</td>\n",
       "      <td>inf</td>\n",
       "      <td>0.565294</td>\n",
       "      <td>0.0</td>\n",
       "    </tr>\n",
       "    <tr>\n",
       "      <th>lognorm</th>\n",
       "      <td>0.003059</td>\n",
       "      <td>1998.562199</td>\n",
       "      <td>2020.193220</td>\n",
       "      <td>inf</td>\n",
       "      <td>0.339563</td>\n",
       "      <td>0.0</td>\n",
       "    </tr>\n",
       "  </tbody>\n",
       "</table>\n",
       "</div>"
      ],
      "text/plain": [
       "         sumsquare_error           aic           bic  kl_div  ks_statistic  \\\n",
       "beta            0.001233   5053.882758   5082.724119     inf      0.425948   \n",
       "burr            0.002058   2442.892122   2471.733484     inf      0.241871   \n",
       "norm            0.002818   5012.717482   5027.138163     inf      0.287426   \n",
       "gamma           0.002882  48296.621547  48318.252568     inf      0.565294   \n",
       "lognorm         0.003059   1998.562199   2020.193220     inf      0.339563   \n",
       "\n",
       "         ks_pvalue  \n",
       "beta           0.0  \n",
       "burr           0.0  \n",
       "norm           0.0  \n",
       "gamma          0.0  \n",
       "lognorm        0.0  "
      ]
     },
     "execution_count": 21,
     "metadata": {},
     "output_type": "execute_result"
    },
    {
     "data": {
      "image/png": "[encoded data removed]",
      "text/plain": [
       "<Figure size 640x480 with 1 Axes>"
      ]
     },
     "metadata": {},
     "output_type": "display_data"
    }
   ],
   "source": [
    "f2 = Fitter(peaks,\n",
    "           distributions=['gamma',\n",
    "                          'lognorm',\n",
    "                          \"beta\",\n",
    "                          \"burr\",\n",
    "                          \"norm\"])\n",
    "f2.fit()\n",
    "f2.summary()"
   ]
  },
  {
   "cell_type": "code",
   "execution_count": 22,
   "id": "c7a73347-e6ee-45c4-afd5-c26cfd4cd16c",
   "metadata": {},
   "outputs": [
    {
     "data": {
      "text/plain": [
       "{'beta': {'a': 0.14574888932085578,\n",
       "  'b': 584.9443550204086,\n",
       "  'loc': 199.99999999999997,\n",
       "  'scale': 13639.937786905211}}"
      ]
     },
     "execution_count": 22,
     "metadata": {},
     "output_type": "execute_result"
    }
   ],
   "source": [
    "f2.get_best(method = 'sumsquare_error')"
   ]
  },
  {
   "cell_type": "code",
   "execution_count": 23,
   "id": "e5ca888f-db00-461f-bc32-5d57440e48d7",
   "metadata": {},
   "outputs": [
    {
     "data": {
      "text/plain": [
       "(0.14574888932085578,\n",
       " 584.9443550204086,\n",
       " 199.99999999999997,\n",
       " 13639.937786905211)"
      ]
     },
     "execution_count": 23,
     "metadata": {},
     "output_type": "execute_result"
    }
   ],
   "source": [
    "f2.fitted_param[\"beta\"]"
   ]
  },
  {
   "cell_type": "code",
   "execution_count": 34,
   "id": "05d761c5-6f78-45e6-b3b0-1dbde937b08c",
   "metadata": {},
   "outputs": [],
   "source": [
    "# end bankroll after r rounds\n",
    "# get rth round in simulation and extract final bankroll\n",
    "\n",
    "r = 10\n",
    "rth_round_br = []\n",
    "for play in play_history:\n",
    "    if len(play) > r:\n",
    "        rth_round_br.append(play[r][2])\n",
    "    else:\n",
    "        rth_round_br.append(0)"
   ]
  },
  {
   "cell_type": "code",
   "execution_count": 35,
   "id": "4834da91-915b-48c0-96fd-fd43511c4485",
   "metadata": {},
   "outputs": [
    {
     "data": {
      "image/png": "[encoded data removed]",
      "text/plain": [
       "<Figure size 640x480 with 1 Axes>"
      ]
     },
     "metadata": {},
     "output_type": "display_data"
    },
    {
     "name": "stdout",
     "output_type": "stream",
     "text": [
      "Mean bank roll after 10 rounds 144.97875\n",
      "Median bank roll after 10 rounds 137.5\n"
     ]
    }
   ],
   "source": [
    "plt.hist(rth_round_br, bins=30, alpha=0.5)\n",
    "plt.title(f'Bank Roll after {r} rounds')\n",
    "plt.xlabel('Count')\n",
    "plt.ylabel('Bank Roll')\n",
    "\n",
    "plt.show()\n",
    "\n",
    "print(f'Mean bank roll after {r} rounds {np.mean(rth_round_br)}')\n",
    "print(f'Median bank roll after {r} rounds {np.median(rth_round_br)}')"
   ]
  },
  {
   "cell_type": "code",
   "execution_count": 36,
   "id": "64e2a5f3-2c6f-4669-a328-1aa73ecfab04",
   "metadata": {},
   "outputs": [
    {
     "data": {
      "text/html": [
       "<div>\n",
       "<style scoped>\n",
       "    .dataframe tbody tr th:only-of-type {\n",
       "        vertical-align: middle;\n",
       "    }\n",
       "\n",
       "    .dataframe tbody tr th {\n",
       "        vertical-align: top;\n",
       "    }\n",
       "\n",
       "    .dataframe thead th {\n",
       "        text-align: right;\n",
       "    }\n",
       "</style>\n",
       "<table border=\"1\" class=\"dataframe\">\n",
       "  <thead>\n",
       "    <tr style=\"text-align: right;\">\n",
       "      <th></th>\n",
       "      <th>sumsquare_error</th>\n",
       "      <th>aic</th>\n",
       "      <th>bic</th>\n",
       "      <th>kl_div</th>\n",
       "      <th>ks_statistic</th>\n",
       "      <th>ks_pvalue</th>\n",
       "    </tr>\n",
       "  </thead>\n",
       "  <tbody>\n",
       "    <tr>\n",
       "      <th>gamma</th>\n",
       "      <td>0.000040</td>\n",
       "      <td>1948.971867</td>\n",
       "      <td>1970.602888</td>\n",
       "      <td>inf</td>\n",
       "      <td>0.030803</td>\n",
       "      <td>1.119387e-08</td>\n",
       "    </tr>\n",
       "    <tr>\n",
       "      <th>beta</th>\n",
       "      <td>0.000041</td>\n",
       "      <td>1927.908312</td>\n",
       "      <td>1956.749673</td>\n",
       "      <td>inf</td>\n",
       "      <td>0.032924</td>\n",
       "      <td>7.480979e-10</td>\n",
       "    </tr>\n",
       "    <tr>\n",
       "      <th>norm</th>\n",
       "      <td>0.000049</td>\n",
       "      <td>2635.391190</td>\n",
       "      <td>2649.811871</td>\n",
       "      <td>inf</td>\n",
       "      <td>0.058960</td>\n",
       "      <td>1.166153e-30</td>\n",
       "    </tr>\n",
       "    <tr>\n",
       "      <th>lognorm</th>\n",
       "      <td>0.000584</td>\n",
       "      <td>2226.968292</td>\n",
       "      <td>2248.599313</td>\n",
       "      <td>inf</td>\n",
       "      <td>0.522864</td>\n",
       "      <td>0.000000e+00</td>\n",
       "    </tr>\n",
       "    <tr>\n",
       "      <th>burr</th>\n",
       "      <td>0.001002</td>\n",
       "      <td>1687.101040</td>\n",
       "      <td>1715.942401</td>\n",
       "      <td>inf</td>\n",
       "      <td>0.539755</td>\n",
       "      <td>0.000000e+00</td>\n",
       "    </tr>\n",
       "  </tbody>\n",
       "</table>\n",
       "</div>"
      ],
      "text/plain": [
       "         sumsquare_error          aic          bic  kl_div  ks_statistic  \\\n",
       "gamma           0.000040  1948.971867  1970.602888     inf      0.030803   \n",
       "beta            0.000041  1927.908312  1956.749673     inf      0.032924   \n",
       "norm            0.000049  2635.391190  2649.811871     inf      0.058960   \n",
       "lognorm         0.000584  2226.968292  2248.599313     inf      0.522864   \n",
       "burr            0.001002  1687.101040  1715.942401     inf      0.539755   \n",
       "\n",
       "            ks_pvalue  \n",
       "gamma    1.119387e-08  \n",
       "beta     7.480979e-10  \n",
       "norm     1.166153e-30  \n",
       "lognorm  0.000000e+00  \n",
       "burr     0.000000e+00  "
      ]
     },
     "execution_count": 36,
     "metadata": {},
     "output_type": "execute_result"
    },
    {
     "data": {
      "image/png": "[encoded data removed]",
      "text/plain": [
       "<Figure size 640x480 with 1 Axes>"
      ]
     },
     "metadata": {},
     "output_type": "display_data"
    }
   ],
   "source": [
    "f3 = Fitter(rth_round_br,\n",
    "           distributions=['gamma',\n",
    "                          'lognorm',\n",
    "                          \"beta\",\n",
    "                          \"burr\",\n",
    "                          \"norm\"])\n",
    "f3.fit()\n",
    "f3.summary()"
   ]
  },
  {
   "cell_type": "code",
   "execution_count": 37,
   "id": "a0f00e1a-0b48-4bd6-a56e-76b349c857db",
   "metadata": {},
   "outputs": [
    {
     "data": {
      "text/plain": [
       "{'gamma': {'a': 8.116472044541752,\n",
       "  'loc': -69.01987160256009,\n",
       "  'scale': 26.365965457611512}}"
      ]
     },
     "execution_count": 37,
     "metadata": {},
     "output_type": "execute_result"
    }
   ],
   "source": [
    "f3.get_best(method = 'sumsquare_error')"
   ]
  },
  {
   "cell_type": "code",
   "execution_count": 40,
   "id": "3a6b667b-3293-4453-b99e-e50cbb73b066",
   "metadata": {},
   "outputs": [
    {
     "data": {
      "text/plain": [
       "(8.116472044541752, -69.01987160256009, 26.365965457611512)"
      ]
     },
     "execution_count": 40,
     "metadata": {},
     "output_type": "execute_result"
    }
   ],
   "source": [
    "f3.fitted_param[\"gamma\"]"
   ]
  },
  {
   "cell_type": "markdown",
   "id": "aa7d8722-7834-44a0-9722-b0c724c1e8b8",
   "metadata": {},
   "source": [
    "# Odds calculations"
   ]
  },
  {
   "cell_type": "markdown",
   "id": "7e69125f-1368-4c0f-a93f-965575f2a574",
   "metadata": {},
   "source": [
    "# Trips better than no Trips?"
   ]
  },
  {
   "cell_type": "markdown",
   "id": "0cb81ba4",
   "metadata": {},
   "source": [
    "# Test Code (ignore)"
   ]
  },
  {
   "cell_type": "code",
   "execution_count": 24,
   "id": "02c1f4a3",
   "metadata": {},
   "outputs": [],
   "source": [
    "my_hand = board[0:2]\n",
    "dealer_hand = board[2:4]\n",
    "flop = board[4:7]\n",
    "river = board[7:9]\n",
    "\n",
    "full_board = board[4:9]"
   ]
  },
  {
   "cell_type": "code",
   "execution_count": 25,
   "id": "8f7a08f5",
   "metadata": {},
   "outputs": [
    {
     "name": "stdout",
     "output_type": "stream",
     "text": [
      "200\n",
      "8\n"
     ]
    }
   ],
   "source": [
    "tst_hand = [\n",
    "    (Rank.TEN, Suit.SPADE),#\n",
    "    (Rank.JACK, Suit.SPADE),#\n",
    "    (Rank.THREE, Suit.DIAMOND),\n",
    "    (Rank.FOUR, Suit.HEART),\n",
    "    (Rank.FOUR, Suit.SPADE),#\n",
    "    (Rank.QUEEN, Suit.SPADE),#\n",
    "    (Rank.KING, Suit.SPADE),#\n",
    "    (Rank.ACE, Suit.SPADE),#\n",
    "    (Rank.THREE, Suit.DIAMOND)#\n",
    "]\n",
    "my_hand = tst_hand[0:2]\n",
    "dealer_hand = tst_hand[2:4]\n",
    "flop = tst_hand[4:7]\n",
    "river = tst_hand[7:9]\n",
    "\n",
    "full_hand = HandParser(my_hand + flop + river).handenum\n",
    "\n",
    "print(get_trips_win(my_hand, flop, river, TRIPS))\n",
    "\n",
    "print(full_hand)"
   ]
  },
  {
   "cell_type": "code",
   "execution_count": 26,
   "id": "89a6180e",
   "metadata": {},
   "outputs": [
    {
     "data": {
      "text/plain": [
       "'TEN'"
      ]
     },
     "execution_count": 26,
     "metadata": {},
     "output_type": "execute_result"
    }
   ],
   "source": [
    "my_hand[0][0].name"
   ]
  },
  {
   "cell_type": "code",
   "execution_count": 27,
   "id": "d0cfcdca",
   "metadata": {},
   "outputs": [
    {
     "data": {
      "text/plain": [
       "[(<Rank.TEN: 8>, <Suit.SPADE: 0>),\n",
       " (<Rank.JACK: 9>, <Suit.SPADE: 0>),\n",
       " (<Rank.FOUR: 2>, <Suit.SPADE: 0>),\n",
       " (<Rank.QUEEN: 10>, <Suit.SPADE: 0>),\n",
       " (<Rank.KING: 11>, <Suit.SPADE: 0>)]"
      ]
     },
     "execution_count": 27,
     "metadata": {},
     "output_type": "execute_result"
    }
   ],
   "source": [
    "my_hand\n",
    "HandParser(my_hand + flop).handenum\n",
    "my_hand + flop"
   ]
  },
  {
   "cell_type": "code",
   "execution_count": 28,
   "id": "e8918b79",
   "metadata": {},
   "outputs": [
    {
     "ename": "TypeError",
     "evalue": "play_game_n_rounds() takes 6 positional arguments but 10 were given",
     "output_type": "error",
     "traceback": [
      "\u001b[1;31m---------------------------------------------------------------------------\u001b[0m",
      "\u001b[1;31mTypeError\u001b[0m                                 Traceback (most recent call last)",
      "Cell \u001b[1;32mIn[28], line 3\u001b[0m\n\u001b[0;32m      1\u001b[0m n \u001b[38;5;241m=\u001b[39m \u001b[38;5;241m1\u001b[39m\n\u001b[0;32m      2\u001b[0m bank_roll\u001b[38;5;241m=\u001b[39m \u001b[38;5;241m200\u001b[39m\n\u001b[1;32m----> 3\u001b[0m plays \u001b[38;5;241m=\u001b[39m play_game_n_rounds(n, bank_roll, deck, ANTE, BLIND, TRIPS, my_hand, dealer_hand, flop, river)\n\u001b[0;32m      4\u001b[0m \u001b[38;5;28mprint\u001b[39m(plays)\n",
      "\u001b[1;31mTypeError\u001b[0m: play_game_n_rounds() takes 6 positional arguments but 10 were given"
     ]
    }
   ],
   "source": [
    "n = 1\n",
    "bank_roll= 200\n",
    "plays = play_game_n_rounds(n, bank_roll, deck, ANTE, BLIND, TRIPS, my_hand, dealer_hand, flop, river)\n",
    "print(plays)"
   ]
  },
  {
   "cell_type": "code",
   "execution_count": null,
   "id": "dfa4e2b1-e70f-43fe-9950-ab93217a8c20",
   "metadata": {},
   "outputs": [],
   "source": []
  },
  {
   "cell_type": "code",
   "execution_count": null,
   "id": "48f04e3a",
   "metadata": {},
   "outputs": [],
   "source": [
    "hand1 = [\n",
    "    (Rank.KING, Suit.SPADE),\n",
    "    (Rank.JACK, Suit.SPADE)\n",
    "]\n",
    "hand1[1][0].value"
   ]
  },
  {
   "cell_type": "code",
   "execution_count": null,
   "id": "0ec3def9",
   "metadata": {},
   "outputs": [],
   "source": [
    "hand1[1][0].value"
   ]
  }
 ],
 "metadata": {
  "kernelspec": {
   "display_name": "Python 3 (ipykernel)",
   "language": "python",
   "name": "python3"
  },
  "language_info": {
   "codemirror_mode": {
    "name": "ipython",
    "version": 3
   },
   "file_extension": ".py",
   "mimetype": "text/x-python",
   "name": "python",
   "nbconvert_exporter": "python",
   "pygments_lexer": "ipython3",
   "version": "3.12.4"
  }
 },
 "nbformat": 4,
 "nbformat_minor": 5
}
